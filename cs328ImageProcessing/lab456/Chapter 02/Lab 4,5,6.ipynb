{
 "cells": [
  {
   "cell_type": "markdown",
   "metadata": {
    "id": "-Aowx11xNlv-"
   },
   "source": [
    "# Image Processing CookBook\n",
    "## Chapter 02\n",
    "### Author: Sandipan Dey"
   ]
  },
  {
   "cell_type": "code",
   "execution_count": 1,
   "metadata": {
    "colab": {
     "base_uri": "https://localhost:8080/"
    },
    "executionInfo": {
     "elapsed": 33297,
     "status": "ok",
     "timestamp": 1676427054490,
     "user": {
      "displayName": "Orgil Jargalsaikhan",
      "userId": "17255395816795418160"
     },
     "user_tz": -480
    },
    "id": "yof3m8KTNntu",
    "outputId": "2d45a92d-7b48-4bd1-f146-3866c6607465"
   },
   "outputs": [],
   "source": [
    "# from google.colab import drive\n",
    "# drive.mount('/content/drive')"
   ]
  },
  {
   "cell_type": "code",
   "execution_count": 2,
   "metadata": {
    "colab": {
     "base_uri": "https://localhost:8080/"
    },
    "executionInfo": {
     "elapsed": 1336,
     "status": "ok",
     "timestamp": 1676427055819,
     "user": {
      "displayName": "Orgil Jargalsaikhan",
      "userId": "17255395816795418160"
     },
     "user_tz": -480
    },
    "id": "Kf9o-aXbOavl",
    "outputId": "7da1b06b-09b8-45db-e577-64d00a098e0b"
   },
   "outputs": [],
   "source": [
    "# %cd /content/drive/MyDrive/F.CS328/Python-Image-Processing-Cookbook/Chapter 02"
   ]
  },
  {
   "cell_type": "code",
   "execution_count": 3,
   "metadata": {
    "colab": {
     "base_uri": "https://localhost:8080/"
    },
    "executionInfo": {
     "elapsed": 689,
     "status": "ok",
     "timestamp": 1676427056501,
     "user": {
      "displayName": "Orgil Jargalsaikhan",
      "userId": "17255395816795418160"
     },
     "user_tz": -480
    },
    "id": "8_diiJjzOffy",
    "outputId": "76cc0528-cf66-4c2d-f766-9dee00316e8d"
   },
   "outputs": [],
   "source": [
    "# !ls"
   ]
  },
  {
   "cell_type": "markdown",
   "metadata": {
    "id": "c1sB9aetNlwA"
   },
   "source": [
    "### Histogram Matching"
   ]
  },
  {
   "cell_type": "code",
   "execution_count": 4,
   "metadata": {
    "colab": {
     "base_uri": "https://localhost:8080/",
     "height": 857
    },
    "executionInfo": {
     "elapsed": 13735,
     "status": "ok",
     "timestamp": 1676427070232,
     "user": {
      "displayName": "Orgil Jargalsaikhan",
      "userId": "17255395816795418160"
     },
     "user_tz": -480
    },
    "id": "s1ybTA-ENlwA",
    "outputId": "4d7fed9d-33ba-448b-891d-212e91178c8f"
   },
   "outputs": [
    {
     "ename": "ModuleNotFoundError",
     "evalue": "No module named 'skimage'",
     "output_type": "error",
     "traceback": [
      "\u001b[0;31m---------------------------------------------------------------------------\u001b[0m",
      "\u001b[0;31mModuleNotFoundError\u001b[0m                       Traceback (most recent call last)",
      "Cell \u001b[0;32mIn[4], line 2\u001b[0m\n\u001b[1;32m      1\u001b[0m get_ipython()\u001b[38;5;241m.\u001b[39mrun_line_magic(\u001b[38;5;124m'\u001b[39m\u001b[38;5;124mmatplotlib\u001b[39m\u001b[38;5;124m'\u001b[39m, \u001b[38;5;124m'\u001b[39m\u001b[38;5;124minline\u001b[39m\u001b[38;5;124m'\u001b[39m)\n\u001b[0;32m----> 2\u001b[0m \u001b[38;5;28;01mfrom\u001b[39;00m \u001b[38;5;21;01mskimage\u001b[39;00m\u001b[38;5;21;01m.\u001b[39;00m\u001b[38;5;21;01mexposure\u001b[39;00m \u001b[38;5;28;01mimport\u001b[39;00m cumulative_distribution\n\u001b[1;32m      3\u001b[0m \u001b[38;5;28;01mfrom\u001b[39;00m \u001b[38;5;21;01mskimage\u001b[39;00m\u001b[38;5;21;01m.\u001b[39;00m\u001b[38;5;21;01mio\u001b[39;00m \u001b[38;5;28;01mimport\u001b[39;00m imread\n\u001b[1;32m      4\u001b[0m \u001b[38;5;28;01mfrom\u001b[39;00m \u001b[38;5;21;01mskimage\u001b[39;00m\u001b[38;5;21;01m.\u001b[39;00m\u001b[38;5;21;01mcolor\u001b[39;00m \u001b[38;5;28;01mimport\u001b[39;00m rgb2gray\n",
      "\u001b[0;31mModuleNotFoundError\u001b[0m: No module named 'skimage'"
     ]
    }
   ],
   "source": [
    "%matplotlib inline\n",
    "from skimage.exposure import cumulative_distribution\n",
    "from skimage.io import imread\n",
    "from skimage.color import rgb2gray\n",
    "import matplotlib.pylab as plt\n",
    "import numpy as np\n",
    "\n",
    "def hist_matching(c, c_t, im):\n",
    "    b = np.interp(c, c_t, np.arange(256))   # find closest matches to b_t\n",
    "    pix_repl = {i:b[i] for i in range(256)} # dictionary to replace the pixels\n",
    "    mp = np.arange(0,256)\n",
    "    for (k, v) in pix_repl.items():\n",
    "        mp[k] = v\n",
    "    s = im.shape\n",
    "    im = np.reshape(mp[im.ravel()], im.shape)\n",
    "    im = np.reshape(im, s)\n",
    "    return im\n",
    "\n",
    "def cdf(im):\n",
    "    c, b = cumulative_distribution(im)\n",
    "    #print(b)\n",
    "    for i in range(b[0]):\n",
    "        c = np.insert(c, 0, 0)\n",
    "    for i in range(b[-1]+1, 256):\n",
    "        c = np.append(c, 1)\n",
    "    return c\n",
    "\n",
    "im = imread('images/goddess.png').astype(np.uint8)\n",
    "im_t = imread('images/leaves.png')\n",
    "print(np.max(im), np.max(im_t))\n",
    "\n",
    "im1 = np.zeros(im.shape).astype(np.uint8)\n",
    "for i in range(3):\n",
    "    c = cdf(im[...,i])\n",
    "    c_t = cdf(im_t[...,i])\n",
    "    im1[...,i] = hist_matching(c, c_t, im[...,i])\n",
    "\n",
    "plt.figure(figsize=(20,17))\n",
    "plt.subplots_adjust(left=0, top=0.95, right=1, bottom=0, wspace=0.05, hspace=0.05)\n",
    "plt.subplot(221), plt.imshow(im), plt.axis('off'), plt.title('Input Image', size=25)\n",
    "plt.subplot(222), plt.imshow(im_t), plt.axis('off'), plt.title('Template Image', size=25)\n",
    "plt.subplot(223), plt.imshow(im1[...,:3]), plt.axis('off'), plt.title('Output Image', size=25)\n",
    "plt.show()"
   ]
  },
  {
   "cell_type": "code",
   "execution_count": null,
   "metadata": {
    "colab": {
     "base_uri": "https://localhost:8080/",
     "height": 766
    },
    "executionInfo": {
     "elapsed": 6919,
     "status": "ok",
     "timestamp": 1676427077145,
     "user": {
      "displayName": "Orgil Jargalsaikhan",
      "userId": "17255395816795418160"
     },
     "user_tz": -480
    },
    "id": "Fxmc8EyfNlwC",
    "outputId": "fa928176-6d8e-41ad-d82a-9dfd9feb44b6"
   },
   "outputs": [],
   "source": [
    "im = imread('images/rocks.png').astype(np.uint8)\n",
    "im_t = imread('images/sun.png')\n",
    "print(np.max(im), np.max(im_t))\n",
    "\n",
    "im1 = np.zeros(im.shape).astype(np.uint8)\n",
    "for i in range(3):\n",
    "    c = cdf(im[...,i])\n",
    "    c_t = cdf(im_t[...,i])\n",
    "    im1[...,i] = hist_matching(c, c_t, im[...,i])\n",
    "\n",
    "plt.figure(figsize=(20,15))\n",
    "plt.subplots_adjust(left=0, top=0.95, right=1, bottom=0, wspace=0.05, hspace=0.05)\n",
    "plt.subplot(221), plt.imshow(im), plt.axis('off'), plt.title('Input Image', size=25)\n",
    "plt.subplot(222), plt.imshow(im_t), plt.axis('off'), plt.title('Template Image', size=25)\n",
    "plt.subplot(223), plt.imshow(im1[...,:3]), plt.axis('off'), plt.title('Output Image', size=25)\n",
    "plt.show()"
   ]
  },
  {
   "cell_type": "markdown",
   "metadata": {
    "id": "QSnkbwLoNlwD"
   },
   "source": [
    "### Edge Detection with Canny, LOG / Zero-Crossing and Wavelets"
   ]
  },
  {
   "cell_type": "code",
   "execution_count": null,
   "metadata": {
    "colab": {
     "base_uri": "https://localhost:8080/"
    },
    "executionInfo": {
     "elapsed": 22,
     "status": "ok",
     "timestamp": 1676427077146,
     "user": {
      "displayName": "Orgil Jargalsaikhan",
      "userId": "17255395816795418160"
     },
     "user_tz": -480
    },
    "id": "oHXU2_1IOr1C",
    "outputId": "6c521c1f-80df-48ab-fe42-c549371144b4"
   },
   "outputs": [],
   "source": [
    "# !pip install SimpleITK"
   ]
  },
  {
   "cell_type": "code",
   "execution_count": null,
   "metadata": {
    "colab": {
     "base_uri": "https://localhost:8080/",
     "height": 339
    },
    "executionInfo": {
     "elapsed": 5061,
     "status": "ok",
     "timestamp": 1676427111477,
     "user": {
      "displayName": "Orgil Jargalsaikhan",
      "userId": "17255395816795418160"
     },
     "user_tz": -480
    },
    "id": "nljMbh6jNlwD",
    "outputId": "9dab79ac-453c-432b-a671-2e754f0ad40d"
   },
   "outputs": [],
   "source": [
    "import matplotlib.pyplot as plt\n",
    "import SimpleITK as sitk\n",
    "\n",
    "image = sitk.ReadImage('images/cameraman.png',sitk.sitkInt8) # 8-bit cameraman grayscale image\n",
    "image = sitk.Cast(image, sitk.sitkFloat64)\n",
    "\n",
    "# Compute the Canny filter for two values of sigma\n",
    "edges1 = sitk.CannyEdgeDetection(image, lowerThreshold=5, upperThreshold=10, variance=[1, 1])\n",
    "edges2 = sitk.CannyEdgeDetection(image, lowerThreshold=5, upperThreshold=10, variance=[3, 3])\n",
    "\n",
    "# Convert to numpy array for display\n",
    "image = sitk.GetArrayFromImage(image)\n",
    "edges1 = sitk.GetArrayFromImage(edges1)\n",
    "edges2 = sitk.GetArrayFromImage(edges2)\n",
    "\n",
    "# display results\n",
    "fig = plt.figure(figsize=(20, 6))\n",
    "\n",
    "plt.subplot(131), plt.imshow(image.astype(np.uint8), cmap=plt.cm.gray), plt.axis('off'), plt.title('Input image', fontsize=20)\n",
    "plt.subplot(132), plt.imshow(edges1, cmap=plt.cm.gray), plt.axis('off'), plt.title('Canny filter, $\\sigma=1$', fontsize=20)\n",
    "plt.subplot(133), plt.imshow(edges2, cmap=plt.cm.gray), plt.axis('off'), plt.title('Canny filter, $\\sigma=3$', fontsize=20)\n",
    "\n",
    "fig.tight_layout()\n",
    "\n",
    "plt.show()"
   ]
  },
  {
   "cell_type": "code",
   "execution_count": null,
   "metadata": {
    "colab": {
     "base_uri": "https://localhost:8080/",
     "height": 594
    },
    "executionInfo": {
     "elapsed": 3608,
     "status": "ok",
     "timestamp": 1676427119203,
     "user": {
      "displayName": "Orgil Jargalsaikhan",
      "userId": "17255395816795418160"
     },
     "user_tz": -480
    },
    "id": "_eBKssUgNlwE",
    "outputId": "90e666d0-5bc9-4b31-c7a1-032a77c3cac5"
   },
   "outputs": [],
   "source": [
    "import numpy as np\n",
    "from scipy import ndimage, misc\n",
    "import matplotlib.pyplot as plt\n",
    "from skimage.color import rgb2gray\n",
    "\n",
    "def any_neighbor_zero(img, i, j):\n",
    "    for k in range(-1,2):\n",
    "      for l in range(-1,2):\n",
    "         if img[i+k, j+k] == 0:\n",
    "            return True\n",
    "    return False\n",
    "\n",
    "def zero_crossing(img):\n",
    "  img[img > 0] = 1\n",
    "  img[img < 0] = 0\n",
    "  out_img = np.zeros(img.shape)\n",
    "  for i in range(1,img.shape[0]-1):\n",
    "    for j in range(1,img.shape[1]-1):\n",
    "      if img[i,j] > 0 and any_neighbor_zero(img, i, j):\n",
    "        out_img[i,j] = 255\n",
    "  return out_img\n",
    "\n",
    "img = rgb2gray(imread('images/tiger.png'))\n",
    "\n",
    "print(np.max(img))\n",
    "fig = plt.figure(figsize=(25,15))\n",
    "plt.gray() # show the filtered result in grayscale\n",
    "for sigma in range(2,10, 2):\n",
    "    plt.subplot(2,2,sigma/2)\n",
    "    result = ndimage.gaussian_laplace(img, sigma=sigma)\n",
    "    result = zero_crossing(result)\n",
    "    plt.imshow(result)\n",
    "    plt.axis('off')\n",
    "    plt.title('LoG with zero-crossing, sigma=' + str(sigma), size=30)\n",
    "\n",
    "plt.tight_layout()\n",
    "plt.show()"
   ]
  },
  {
   "cell_type": "code",
   "execution_count": null,
   "metadata": {
    "colab": {
     "base_uri": "https://localhost:8080/",
     "height": 837
    },
    "executionInfo": {
     "elapsed": 4328,
     "status": "ok",
     "timestamp": 1676427126199,
     "user": {
      "displayName": "Orgil Jargalsaikhan",
      "userId": "17255395816795418160"
     },
     "user_tz": -480
    },
    "id": "2T1FXf6SNlwF",
    "outputId": "d1a00e63-13b7-48ea-919c-f40fc47eb0f6"
   },
   "outputs": [],
   "source": [
    "#% matplotlib inline\n",
    "import pywt\n",
    "from skimage.io import imread\n",
    "from skimage.color import rgb2gray\n",
    "from skimage.filters import threshold_otsu\n",
    "import matplotlib.pylab as plt\n",
    "# Load image\n",
    "original = rgb2gray(imread('images/ed-deir.png'))\n",
    "#original = pywt.data.camera()\n",
    "# Wavelet transform of image, and plot approximation and details\n",
    "titles = ['Approximation', ' Horizontal detail', 'Vertical detail', 'Diagonal detail']\n",
    "coeffs2 = pywt.dwt2(original, 'haar')\n",
    "LL, (LH, HL, HH) = coeffs2\n",
    "fig = plt.figure(figsize=(15, 12))\n",
    "for i, a in enumerate([LL, LH, HL, HH]):\n",
    "    ax = fig.add_subplot(2, 2, i + 1)\n",
    "    a = abs(a)\n",
    "    #a = np.clip(a, 0, 1)\n",
    "    if i > 0:\n",
    "        th = threshold_otsu(a)\n",
    "        a[a > th] = 1\n",
    "        a[a <= th] = 0\n",
    "    ax.imshow(a, interpolation=\"nearest\", cmap=plt.cm.gray)\n",
    "    ax.set_title(titles[i], fontsize=20)\n",
    "    ax.set_xticks([])\n",
    "    ax.set_yticks([])\n",
    "fig.tight_layout()\n",
    "plt.show()"
   ]
  },
  {
   "cell_type": "markdown",
   "metadata": {
    "id": "Nf_YUGAENlwG"
   },
   "source": [
    "### Edge Detection with Anisotropic Diffusion"
   ]
  },
  {
   "cell_type": "code",
   "execution_count": null,
   "metadata": {
    "colab": {
     "base_uri": "https://localhost:8080/"
    },
    "executionInfo": {
     "elapsed": 14988,
     "status": "ok",
     "timestamp": 1676427141179,
     "user": {
      "displayName": "Orgil Jargalsaikhan",
      "userId": "17255395816795418160"
     },
     "user_tz": -480
    },
    "id": "E_xvuUpfPjmX",
    "outputId": "de83605c-2beb-496a-b9c4-179d85e2c2ff"
   },
   "outputs": [],
   "source": [
    "# !pip install medpy"
   ]
  },
  {
   "cell_type": "code",
   "execution_count": null,
   "metadata": {
    "colab": {
     "base_uri": "https://localhost:8080/",
     "height": 468
    },
    "executionInfo": {
     "elapsed": 6581,
     "status": "ok",
     "timestamp": 1676427147756,
     "user": {
      "displayName": "Orgil Jargalsaikhan",
      "userId": "17255395816795418160"
     },
     "user_tz": -480
    },
    "id": "kZmJ8PnhNlwG",
    "outputId": "73caf5dd-a718-4067-d229-375b33f65ef2"
   },
   "outputs": [],
   "source": [
    "from medpy.filter.smoothing import anisotropic_diffusion\n",
    "from skimage.util import random_noise\n",
    "import matplotlib.pylab as plt\n",
    "from skimage.color import rgb2gray\n",
    "from skimage.io import imread\n",
    "import numpy as np\n",
    "\n",
    "img = rgb2gray(imread('images/colosseum.png'))\n",
    "plt.figure(figsize=(20,10))\n",
    "plt.gray()\n",
    "plt.subplots_adjust(0,0,1,1,0.05,0.05)\n",
    "plt.subplot(121), plt.imshow(img), plt.axis('off'), plt.title('Original', size=20)\n",
    "diff_out = anisotropic_diffusion(img, niter=50, kappa=20, option=1)\n",
    "plt.subplot(122), plt.imshow(np.clip(diff_out-img,0,1)), plt.axis('off')\n",
    "plt.title(r'Edges with Anisotropic Diffusion (Perona Malik, $\\kappa=20$)', size=20)\n",
    "plt.show()"
   ]
  },
  {
   "cell_type": "markdown",
   "metadata": {
    "id": "sSal2uhhNlwH"
   },
   "source": [
    "### Image Denoising with Denoising Autoencoder"
   ]
  },
  {
   "cell_type": "code",
   "execution_count": null,
   "metadata": {
    "colab": {
     "base_uri": "https://localhost:8080/"
    },
    "executionInfo": {
     "elapsed": 2383,
     "status": "ok",
     "timestamp": 1676427150126,
     "user": {
      "displayName": "Orgil Jargalsaikhan",
      "userId": "17255395816795418160"
     },
     "user_tz": -480
    },
    "id": "hsvotz-UP2Ql",
    "outputId": "cf8b3293-ce59-4f3f-83f4-36731cf02291"
   },
   "outputs": [],
   "source": [
    "# !pip install torchviz"
   ]
  },
  {
   "cell_type": "code",
   "execution_count": null,
   "metadata": {
    "colab": {
     "base_uri": "https://localhost:8080/"
    },
    "executionInfo": {
     "elapsed": 2852,
     "status": "ok",
     "timestamp": 1676427152974,
     "user": {
      "displayName": "Orgil Jargalsaikhan",
      "userId": "17255395816795418160"
     },
     "user_tz": -480
    },
    "id": "96zZiIR2NlwH",
    "outputId": "60c9b5ea-73de-4480-ddbe-fc492759c4a8"
   },
   "outputs": [],
   "source": [
    "import torchvision, matplotlib, sklearn, torch, numpy as np\n",
    "print(np.__version__, torch.__version__, matplotlib.__version__, sklearn.__version__) #torchvision.__version__, "
   ]
  },
  {
   "cell_type": "markdown",
   "metadata": {
    "id": "7s1SEMM4NlwJ"
   },
   "source": [
    "### Image Denoising with Principal Component Analysis (PCA), Discrete Fourier / Wavelet Tranform (FFT, DWT)"
   ]
  },
  {
   "cell_type": "code",
   "execution_count": null,
   "metadata": {
    "colab": {
     "base_uri": "https://localhost:8080/",
     "height": 1000
    },
    "executionInfo": {
     "elapsed": 7182,
     "status": "ok",
     "timestamp": 1676427209334,
     "user": {
      "displayName": "Orgil Jargalsaikhan",
      "userId": "17255395816795418160"
     },
     "user_tz": -480
    },
    "id": "RI5kdk6aNlwJ",
    "outputId": "7058d761-7f66-4a07-ff68-6754cd59f78f"
   },
   "outputs": [],
   "source": [
    "import numpy as np\n",
    "from numpy.random import RandomState\n",
    "import matplotlib.pyplot as plt\n",
    "from sklearn.datasets import fetch_olivetti_faces\n",
    "from sklearn import decomposition\n",
    "from skimage.util import random_noise\n",
    "from skimage import img_as_float\n",
    "from time import time\n",
    "import scipy.fftpack as fp\n",
    "import pywt\n",
    "\n",
    "n_components = 50 # 256\n",
    "image_shape = (64, 64)\n",
    "rng = RandomState(0)\n",
    "\n",
    "dataset = fetch_olivetti_faces(shuffle=True, random_state=rng)\n",
    "original = img_as_float(dataset.data)\n",
    "faces = original.copy()\n",
    "print(faces.shape)\n",
    "\n",
    "n_samples, n_features = faces.shape\n",
    "#mean_face = faces.mean(axis=0)\n",
    "#faces = faces - mean_face\n",
    "faces = random_noise(faces, var=0.005)\n",
    "\n",
    "estimator = decomposition.PCA(n_components=n_components, svd_solver='randomized', whiten=True)\n",
    "print(\"Extracting the top %d PCs...\" % (n_components))\n",
    "t0 = time()\n",
    "faces_recons = estimator.inverse_transform(estimator.fit_transform(faces)) #.T #+ mean_face #.T\n",
    "train_time = (time() - t0)\n",
    "print(\"done in %0.3fs\" % train_time)\n",
    "\n",
    "indices = np.random.choice(n_samples, 5, replace=False)\n",
    "plt.figure(figsize=(20,4))\n",
    "for i in range(len(indices)):\n",
    "    plt.subplot(1,5,i+1), plt.imshow(np.reshape(original[indices[i],:], image_shape)), plt.axis('off')\n",
    "plt.suptitle('Original', size=25)\n",
    "plt.show()\n",
    "\n",
    "#faces = faces + mean_face\n",
    "plt.figure(figsize=(20,4))\n",
    "for i in range(len(indices)):\n",
    "    plt.subplot(1,5,i+1), plt.imshow(np.reshape(faces[indices[i],:], image_shape)), plt.axis('off')\n",
    "plt.suptitle('Noisy', size=25)\n",
    "plt.show()\n",
    "\n",
    "plt.figure(figsize=(20,4))\n",
    "for i in range(len(indices)):\n",
    "    plt.subplot(1,5,i+1), plt.imshow(np.reshape(faces_recons[indices[i],:], image_shape)), plt.axis('off')\n",
    "plt.suptitle('PCA reconstruction with {} components (eigenfaces)'.format(n_components), size=25)\n",
    "plt.show()\n",
    "\n",
    "n_components = 30 \n",
    "plt.figure(figsize=(20,4))\n",
    "for i in range(len(indices)):\n",
    "    freq = fp.fftshift(fp.fft2((np.reshape(faces[indices[i],:], image_shape)).astype(float)))\n",
    "    freq[:freq.shape[0]//2 - n_components//2,:] = freq[freq.shape[0]//2 + n_components//2:,:] = 0\n",
    "    freq[:, :freq.shape[1]//2 - n_components//2] = freq[:, freq.shape[1]//2 + n_components//2:] = 0\n",
    "    plt.subplot(1,5,i+1), plt.imshow(fp.ifft2(fp.ifftshift(freq)).real), plt.axis('off')\n",
    "plt.suptitle('FFT LPF reconstruction with {} basis vectors'.format(n_components), size=25)\n",
    "plt.show()\n",
    "\n",
    "plt.figure(figsize=(20,4))\n",
    "wavelet = pywt.Wavelet('haar')\n",
    "for i in range(len(indices)):\n",
    "    wavelet_coeffs = pywt.wavedec2((np.reshape(faces[indices[i],:], image_shape)).astype(float), wavelet)\n",
    "    plt.subplot(1,5,i+1), plt.imshow(pywt.waverec2(wavelet_coeffs[:-1], wavelet)), plt.axis('off')\n",
    "plt.suptitle('Wavelet reconstruction with {} subbands'.format(len(wavelet_coeffs)-1), size=25)\n",
    "plt.show()"
   ]
  },
  {
   "cell_type": "markdown",
   "metadata": {
    "id": "iHY60WnmNlwK"
   },
   "source": [
    "### Gradient Blending"
   ]
  },
  {
   "cell_type": "code",
   "execution_count": null,
   "metadata": {
    "colab": {
     "base_uri": "https://localhost:8080/"
    },
    "executionInfo": {
     "elapsed": 3305,
     "status": "ok",
     "timestamp": 1676427225735,
     "user": {
      "displayName": "Orgil Jargalsaikhan",
      "userId": "17255395816795418160"
     },
     "user_tz": -480
    },
    "id": "cgzjhQotNlwK",
    "outputId": "831936be-fc06-4571-cc9e-f49472504475"
   },
   "outputs": [],
   "source": [
    "import cv2\n",
    "print(cv2.__version__) # make sure the major version of OpenCV is 3\n",
    "# 3.4.2\n",
    "import numpy as np\n",
    "# read source and destination images\n",
    "src = cv2.imread(\"images/liberty.png\")\n",
    "dst = cv2.imread(\"images/victoria.png\")\n",
    "# read the mask image\n",
    "src_mask = cv2.imread(\"images/cmask.png\")\n",
    "print(src.shape, dst.shape, src_mask.shape)\n",
    "# (480, 360, 3) (576, 768, 3) (480, 360, 3)\n",
    "# this is where the CENTER of the airplane will be placed\n",
    "center = (275,250) \n",
    "# clone seamlessly.\n",
    "output = cv2.seamlessClone(src, dst, src_mask, center, cv2.MIXED_CLONE)\n",
    "# save result\n",
    "cv2.imwrite(\"images/liberty_victoria.png\", output)"
   ]
  },
  {
   "cell_type": "markdown",
   "metadata": {
    "id": "UxuV2hxbNlwL"
   },
   "source": [
    "![](images/gradient_out.png)"
   ]
  },
  {
   "cell_type": "markdown",
   "metadata": {
    "collapsed": true,
    "id": "SIELPw9oNlwL"
   },
   "source": [
    "### Improving Image Contrast"
   ]
  },
  {
   "cell_type": "code",
   "execution_count": null,
   "metadata": {
    "colab": {
     "base_uri": "https://localhost:8080/",
     "height": 1000
    },
    "executionInfo": {
     "elapsed": 31609,
     "status": "ok",
     "timestamp": 1676427297783,
     "user": {
      "displayName": "Orgil Jargalsaikhan",
      "userId": "17255395816795418160"
     },
     "user_tz": -480
    },
    "id": "SrRwF5B4NlwL",
    "outputId": "2f590bc4-aea6-411c-b02e-df0195cd66df"
   },
   "outputs": [],
   "source": [
    "import numpy as np\n",
    "import matplotlib.pylab as plt\n",
    "from skimage.io import imread\n",
    "from skimage.exposure import equalize_hist, equalize_adapthist\n",
    "\n",
    "def plot_image(image, title):\n",
    "    plt.imshow(image)\n",
    "    plt.title(title, size=20)\n",
    "    plt.axis('off')\n",
    "    \n",
    "def plot_hist(img):\n",
    "    colors = ['r', 'g', 'b']\n",
    "    cdf = np.zeros((256,3))\n",
    "    for i in range(3):\n",
    "        hist, bins = np.histogram(img[...,i].flatten(),256,[0,256], normed=True)\n",
    "        cdf[...,i] = hist.cumsum()\n",
    "        cdf_normalized = cdf[...,i] * hist.max() / cdf.max()\n",
    "        plt.plot(cdf_normalized, color = colors[i], label='cdf ({})'.format(colors[i]))\n",
    "        #plt.hist(img[...,i].flatten(),256,[0,256], color = colors[i], density=True)\n",
    "        binWidth = bins[1] - bins[0]\n",
    "        plt.bar(bins[:-1], hist*binWidth, binWidth, label='hist ({})'.format(colors[i]))\n",
    "        plt.xlim([0,256])\n",
    "    plt.legend(loc = 'upper left')\n",
    "    return cdf\n",
    "\n",
    "img = imread('images/train.png')\n",
    "#print(np.max(img))\n",
    "\n",
    "plt.figure(figsize=(20,40))\n",
    "#plt.gray()\n",
    "\n",
    "plt.subplot(421), plot_image(img, 'Original Image')\n",
    "plt.subplot(422) \n",
    "cdf = plot_hist(img)\n",
    "\n",
    "img2 = np.copy(img)\n",
    "for i in range(3):\n",
    "    cdf_m = np.ma.masked_equal(cdf[...,i],0)\n",
    "    cdf_m = (cdf_m - cdf_m.min())*255/(cdf_m.max()-cdf_m.min())\n",
    "    #cdf_m = 255 * cdf / cdf[-1] # normalize\n",
    "    cdf2 = np.ma.filled(cdf_m,0).astype('uint8')\n",
    "    img2[...,i] = cdf2[img[...,i]]\n",
    "\n",
    "plt.subplot(423), plot_image(img2, 'Hist. Equalized')\n",
    "plt.subplot(424), plot_hist(img2)\n",
    "\n",
    "equ = (255*equalize_hist(img)).astype(np.uint8)\n",
    "plt.subplot(425), plot_image(equ, 'Hist. Equalized (scikit-image)')\n",
    "plt.subplot(426), plot_hist(equ)\n",
    "\n",
    "\n",
    "equ = (255*equalize_adapthist(img)).astype(np.uint8)\n",
    "plt.subplot(427), plot_image(equ, 'Adaptive Hist. Equalized (scikit-image)')\n",
    "plt.subplot(428), plot_hist(equ)\n",
    "\n",
    "plt.savefig('images/hist_out.png', bbox_in='tight', pad_in=0)\n",
    "\n",
    "plt.show()"
   ]
  },
  {
   "cell_type": "markdown",
   "metadata": {
    "id": "eNDOsGrUNlwL"
   },
   "source": [
    "### Image Denoising with Anisotropic Diffusion"
   ]
  },
  {
   "cell_type": "code",
   "execution_count": null,
   "metadata": {
    "colab": {
     "base_uri": "https://localhost:8080/",
     "height": 1000
    },
    "executionInfo": {
     "elapsed": 6617,
     "status": "ok",
     "timestamp": 1676427323043,
     "user": {
      "displayName": "Orgil Jargalsaikhan",
      "userId": "17255395816795418160"
     },
     "user_tz": -480
    },
    "id": "butWHrasNlwL",
    "outputId": "1eed7669-234c-4c0c-f7aa-71b1cfa29a5b"
   },
   "outputs": [],
   "source": [
    "from medpy.filter.smoothing import anisotropic_diffusion\n",
    "from skimage.util import random_noise\n",
    "import matplotlib.pylab as plt\n",
    "from skimage.color import rgb2gray\n",
    "from skimage.io import imread\n",
    "import numpy as np\n",
    "\n",
    "img = rgb2gray(imread('images/cameraman.png'))\n",
    "noisy = random_noise(img, var=0.01)\n",
    "noisy = np.clip(noisy, 0, 1)\n",
    "plt.figure(figsize=(15,15))\n",
    "plt.gray()\n",
    "plt.subplots_adjust(0,0,1,1,0.05,0.05)\n",
    "plt.subplot(221), plt.imshow(img), plt.axis('off'), plt.title('Original', size=20)\n",
    "plt.subplot(222), plt.imshow(noisy), plt.axis('off'), plt.title('Noisy', size=20)\n",
    "diff_out = anisotropic_diffusion(noisy, niter=20, kappa=20, option=1)\n",
    "plt.subplot(223), plt.imshow(diff_out), plt.axis('off'), plt.title(r'Anisotropic Diffusion (Perona Malik eq 1, iter=20, $\\kappa=20$)', size=18)\n",
    "diff_out = anisotropic_diffusion(noisy, niter=50, kappa=100, option=2)\n",
    "plt.subplot(224), plt.imshow(diff_out), plt.axis('off'), plt.title(r'Anisotropic Diffusion (Perona Malik eq 2, iter=50, $\\kappa=50$)', size=18)\n",
    "plt.show()"
   ]
  },
  {
   "cell_type": "code",
   "execution_count": null,
   "metadata": {
    "colab": {
     "base_uri": "https://localhost:8080/",
     "height": 287
    },
    "executionInfo": {
     "elapsed": 15,
     "status": "ok",
     "timestamp": 1676428948330,
     "user": {
      "displayName": "Orgil Jargalsaikhan",
      "userId": "17255395816795418160"
     },
     "user_tz": -480
    },
    "id": "zLW7g2zbNlwM",
    "outputId": "675fcfa6-1358-47a8-bcda-5c78aa8591df"
   },
   "outputs": [],
   "source": [
    "img = imread('images/coin_orig.jpg')\n",
    "plt.imshow(img)\n",
    "plt.plot()"
   ]
  },
  {
   "cell_type": "markdown",
   "metadata": {
    "id": "9rtcphXwF-kE"
   },
   "source": [
    "# Motion Blur"
   ]
  },
  {
   "cell_type": "code",
   "execution_count": null,
   "metadata": {
    "colab": {
     "base_uri": "https://localhost:8080/",
     "height": 479
    },
    "executionInfo": {
     "elapsed": 4133,
     "status": "ok",
     "timestamp": 1676431386134,
     "user": {
      "displayName": "Orgil Jargalsaikhan",
      "userId": "17255395816795418160"
     },
     "user_tz": -480
    },
    "id": "VNOALc0h3PfW",
    "outputId": "54ca3186-c862-4f1a-9b07-3671d237ed69"
   },
   "outputs": [],
   "source": [
    "import numpy as np\n",
    "import cv2\n",
    "from skimage import img_as_ubyte\n",
    "import matplotlib.pyplot as plt\n",
    "\n",
    "# f(x,y), input image in spatial domain\n",
    "f = cv2.imread('images/coin_orig.jpg', 0)\n",
    "\n",
    "f = f/f.max() # normalize\n",
    "\n",
    "# F(u,v), image in frequency domain\n",
    "F = np.fft.fft2(f)\n",
    "\n",
    "plt.imshow(np.log1p(np.abs(F)), cmap='gray')\n",
    "plt.axis('off')\n",
    "plt.show()\n",
    "\n",
    "# H(u,v), motion blur function in frequency domain\n",
    "# Create matrix H (motion blur function H(u,v))\n",
    "M,N = F.shape \n",
    "H = np.zeros((M+1,N+1), dtype=np.complex128) # +1 to avoid zero division\n",
    "\n",
    "# Motion blur parameters\n",
    "T = 0.9 # duration of exposure\n",
    "a = 0 # vertical motion\n",
    "b = 0.09 # horizontal motion\n",
    "\n",
    "# Fill matrix H\n",
    "for u in range(1,M+1):\n",
    "    for v in range(1,N+1):\n",
    "        s = np.pi*(u*a + v*b)\n",
    "        H[u,v] = (T/s) * np.sin(s) * np.exp(-1j*s)\n",
    "\n",
    "# index slicing\n",
    "H = H[1:,1:]     \n",
    "   \n",
    "# G(u,v), blurred image in frequency domain\n",
    "G = H * F\n",
    "\n",
    "# g(x,y), blurred image in spatial domain\n",
    "g = np.fft.ifft2(G)\n",
    "g = np.abs(g)\n",
    "\n",
    "blur = img_as_ubyte(g) # if you want to save the image\n",
    "\n",
    "plt.imshow(blur)\n",
    "plt.axis('off')\n",
    "plt.show()"
   ]
  },
  {
   "cell_type": "markdown",
   "metadata": {
    "id": "Ad05MZ1aGCIL"
   },
   "source": [
    "# Add noise"
   ]
  },
  {
   "cell_type": "code",
   "execution_count": null,
   "metadata": {
    "colab": {
     "base_uri": "https://localhost:8080/",
     "height": 287
    },
    "executionInfo": {
     "elapsed": 1024,
     "status": "ok",
     "timestamp": 1676431289107,
     "user": {
      "displayName": "Orgil Jargalsaikhan",
      "userId": "17255395816795418160"
     },
     "user_tz": -480
    },
    "id": "bvrSetu33c_J",
    "outputId": "7cfc7b9d-c2d4-4991-ff3f-9e167f415642"
   },
   "outputs": [],
   "source": [
    "noisy = random_noise(blur, var=0.001)\n",
    "# noisy = np.clip(noisy, 0, 1)\n",
    "plt.imshow(noisy)\n",
    "plt.plot()"
   ]
  },
  {
   "cell_type": "markdown",
   "metadata": {
    "id": "8NLOGRkD4-PF"
   },
   "source": [
    "# Даалгавар 1 Image denoising\n",
    "noisy зурагыг ашиглан анхны зургыг сэргээх буюу шуугианыг багасгах, арилгах."
   ]
  },
  {
   "cell_type": "code",
   "execution_count": null,
   "metadata": {
    "colab": {
     "base_uri": "https://localhost:8080/"
    },
    "executionInfo": {
     "elapsed": 497,
     "status": "ok",
     "timestamp": 1676431407733,
     "user": {
      "displayName": "Orgil Jargalsaikhan",
      "userId": "17255395816795418160"
     },
     "user_tz": -480
    },
    "id": "HDA6RkQ64eeU",
    "outputId": "6e798438-37f2-4783-a802-b620116fdf40"
   },
   "outputs": [],
   "source": [
    "# your code here\n",
    "\n",
    "accuracy = np.sum(abs(noisy - blur))/(img.shape[0]*img.shape[1]*img.shape[2])\n",
    "print(\"{0:.2f}%\".format(100 - accuracy))"
   ]
  },
  {
   "cell_type": "markdown",
   "metadata": {
    "id": "QpcBAXbX8Kj1"
   },
   "source": [
    "# Даалгавар 2 Image enhancement Demotion blur"
   ]
  },
  {
   "cell_type": "code",
   "execution_count": null,
   "metadata": {
    "colab": {
     "base_uri": "https://localhost:8080/"
    },
    "executionInfo": {
     "elapsed": 699,
     "status": "ok",
     "timestamp": 1676431525650,
     "user": {
      "displayName": "Orgil Jargalsaikhan",
      "userId": "17255395816795418160"
     },
     "user_tz": -480
    },
    "id": "JzdGLvVa6i7Q",
    "outputId": "07969637-ddf6-4cbc-d009-5426e6923ccf"
   },
   "outputs": [],
   "source": [
    "# your code here\n",
    "\n",
    "demotion = blur # энд боловсруулалт хийсэн зураг blur оронд бичнэ\n",
    "accuracy = np.sum(abs(f - demotion))/(img.shape[0]*img.shape[1]*img.shape[2])\n",
    "print(\"{0:.2f}%\".format(100 - accuracy))"
   ]
  },
  {
   "cell_type": "markdown",
   "metadata": {
    "id": "8W9_BEetHCMM"
   },
   "source": [
    "# Даалгавар 3 Сэргээсэн зургийг perspectiveTransform хийж бичгийн заасыг дүрслэх\n",
    "Лаборатори 2,3"
   ]
  },
  {
   "cell_type": "code",
   "execution_count": null,
   "metadata": {
    "executionInfo": {
     "elapsed": 632,
     "status": "ok",
     "timestamp": 1676431829079,
     "user": {
      "displayName": "Orgil Jargalsaikhan",
      "userId": "17255395816795418160"
     },
     "user_tz": -480
    },
    "id": "nYbt42leHBxH"
   },
   "outputs": [],
   "source": [
    "# your code here"
   ]
  },
  {
   "cell_type": "markdown",
   "metadata": {
    "id": "OO-zt01uHVuK"
   },
   "source": [
    "# Даалгавар 4 Хувиргасан зургаас зоосуудын байрлал тодорхойлох\n",
    "Лаборатори 2,3"
   ]
  },
  {
   "cell_type": "code",
   "execution_count": null,
   "metadata": {
    "id": "lqIhrHIHGrzU"
   },
   "outputs": [],
   "source": [
    "# your code here"
   ]
  },
  {
   "cell_type": "markdown",
   "metadata": {
    "id": "3nKDXb_nHm2A"
   },
   "source": [
    "# Даалгавар 5 Тодорхойлсон зоосууд хоорондын зайг тодорхойлох\n",
    "\n",
    "https://pyimagesearch.com/2016/04/04/measuring-distance-between-objects-in-an-image-with-opencv/\n",
    "\n",
    "Reference object size = 22.6 mm япон улсын 100 еэний мөнгөн зоос\n",
    "\n",
    "зайг хэмжсэн зураг дүрслэн болон хэмжилтийн үр дүнгүүдийг хүснэгтэнд бөглөн алдааг тооцоолон илгээнэ үү"
   ]
  },
  {
   "cell_type": "code",
   "execution_count": null,
   "metadata": {
    "id": "fKasno7JHwB6"
   },
   "outputs": [],
   "source": [
    "# your code here"
   ]
  },
  {
   "cell_type": "code",
   "execution_count": null,
   "metadata": {
    "colab": {
     "base_uri": "https://localhost:8080/",
     "height": 249
    },
    "executionInfo": {
     "elapsed": 2726,
     "status": "ok",
     "timestamp": 1676432895040,
     "user": {
      "displayName": "Orgil Jargalsaikhan",
      "userId": "17255395816795418160"
     },
     "user_tz": -480
    },
    "id": "X9-VSp5yL9aX",
    "outputId": "bf04fc69-3723-4d03-bf09-ae02e58a094b"
   },
   "outputs": [],
   "source": [
    "img = imread('images/calibrated.jpg')\n",
    "plt.imshow(img)\n",
    "plt.show()"
   ]
  },
  {
   "cell_type": "markdown",
   "metadata": {
    "id": "PfRvtbFGJUMq"
   },
   "source": [
    "# Result\n",
    "Ground truth бодит амьдрал дээрхи хэмжсэн зай\n",
    "\n",
    "Calculated distance тооцоолж олсон зай\n",
    "\n",
    "Loss алдаа\n",
    "\n",
    "| Objects | Calculated distance[cm] |Ground truth[cm]|Loss [cm]|\n",
    "|---------|------------------------------------------------|------|-----|\n",
    "| 1-2     | 9.3                                            | 11.7 | 2.4 |\n",
    "| 1-3     | 8.4                                            | 9.5  | 1.1 |\n",
    "| 1-4     | 15.7                                           | 19.7 | 4.0 |\n",
    "| 1-5     | 12.5                                           | 13.8 | 1.3 |\n",
    "| 1-6     | 15.8                                           | 18.5 | 2.7 |\n",
    "| 1-7     | 22                                             | 28   | 6   |\n",
    "| 1-8     | 21.6                                           | 23.5 | 2.1 |"
   ]
  },
  {
   "cell_type": "markdown",
   "metadata": {
    "id": "5I0iNJLOODdB"
   },
   "source": [
    "# Хугацаа 3 долоо хоног\n",
    "\n",
    "овог нэр:\n",
    "\n",
    "код:\n",
    "\n",
    "# Дүгнэлт (300 хүртэлх үгтэй)\n",
    "\n"
   ]
  },
  {
   "cell_type": "code",
   "execution_count": null,
   "metadata": {
    "id": "v3fR_Q3UOc6y"
   },
   "outputs": [],
   "source": []
  }
 ],
 "metadata": {
  "colab": {
   "provenance": []
  },
  "kernelspec": {
   "display_name": "Python 3 (ipykernel)",
   "language": "python",
   "name": "python3"
  },
  "language_info": {
   "codemirror_mode": {
    "name": "ipython",
    "version": 3
   },
   "file_extension": ".py",
   "mimetype": "text/x-python",
   "name": "python",
   "nbconvert_exporter": "python",
   "pygments_lexer": "ipython3",
   "version": "3.10.6"
  }
 },
 "nbformat": 4,
 "nbformat_minor": 1
}
