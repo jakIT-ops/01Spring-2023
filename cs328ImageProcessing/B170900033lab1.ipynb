{
  "nbformat": 4,
  "nbformat_minor": 0,
  "metadata": {
    "colab": {
      "provenance": []
    },
    "kernelspec": {
      "name": "python3",
      "display_name": "Python 3"
    },
    "language_info": {
      "name": "python"
    }
  },
  "cells": [
    {
      "cell_type": "markdown",
      "source": [
        "# Лаборатрийн ажил 1\n"
      ],
      "metadata": {
        "id": "mdQBv2u9lpYJ"
      }
    },
    {
      "cell_type": "markdown",
      "source": [
        "### <font color=\"yellow\"> utilities functions</font>"
      ],
      "metadata": {
        "id": "iRxDSU1sobfx"
      }
    },
    {
      "cell_type": "code",
      "source": [
        "from collections import Counter\n",
        "\n",
        "# matrix - aas baganaar ni awah\n",
        "def column(matrix, i):\n",
        "    return [row[i] for row in matrix]\n",
        "\n",
        "# jagsaaltiin dundaj - iig oloh\n",
        "def cal_mean(lst):\n",
        "    sum_num = 0\n",
        "    for t in lst:\n",
        "        sum_num = sum_num + t\n",
        "\n",
        "    avg = sum_num / len(lst)\n",
        "    return avg\n",
        "\n",
        "# jagsaaltiin golch utga - iig oloh\n",
        "def cal_median(lst):\n",
        "  n = len(lst)\n",
        "  lst.sort()\n",
        "  \n",
        "  if n % 2 == 0:\n",
        "      median1 = lst[n//2]\n",
        "      median2 = lst[n//2 - 1]\n",
        "      median = (median1 + median2)/2\n",
        "  else:\n",
        "    median = lst[n//2]\n",
        "\n",
        "  return median\n",
        "\n",
        "# jagsaaltiin mode - iig oloh\n",
        "def cal_mode(lst):\n",
        "  n = len(lst)\n",
        "  \n",
        "  data = Counter(lst)\n",
        "  get_mode = dict(data)\n",
        "  mode = [k for k, v in get_mode.items() if v == max(list(data.values()))]\n",
        "  \n",
        "  if len(mode) == n:\n",
        "      return \"mode oldsongv!\"\n",
        "  else:\n",
        "      return mode"
      ],
      "metadata": {
        "id": "p9UOT4rsoJrX"
      },
      "execution_count": null,
      "outputs": []
    },
    {
      "cell_type": "markdown",
      "source": [
        "1. x = [[1, 2, 3, 4, 5], [21, 22, 23, 24, 25], [31, 32, 33, 34, 35]]\n",
        "\n",
        "  * <font color=\"green\">python indexing болон slicing ашиглан доорхи гаралтын үр дүнг харуулсан python код бич. Гаралт тус бүрийн хувьд зөвхөн ганц print statement\n",
        "ашиглана.</font>\n",
        "    \n",
        "    i. [21, 22, 23, 24, 25]\n",
        "    \n",
        "    ii. 3\n",
        "    \n",
        "    iii. [32, 33]\n",
        "    \n",
        "    iv. [1, 3, 5]\n",
        "\n",
        "  * <font color=\"green\">y = [0, 0, 0] зарла, давталт ашиглан y-н жагсаалтын эхний индекс дээр 'x'\n",
        "жагсаалтын эхний дундаж гэх мэтчилэн жагсаалтын бүх элементийн утгыг олох\n",
        "програм бич. print(y) –ын гаралт нь дараах байдалтай байна.\n",
        "  \n",
        "      * [3.0, 23.0, 33.0] // average of [1, 2, 3, 4, 5] = 3.0\n",
        "\n",
        "  * <font color=\"green\">z = [0, 0, 0, 0, 0] зарла, давталт ашиглан y жагсаалтын индекст харгалзах ‘x’ индекс тус бүрийн дундажыг олох програм бич. print(z) гаралтын утга доор харуулав.</font>\n",
        "    \n",
        "    * [17.66, 18.66, 19.66, 20.66, 21.66] // average of [1, 21, 31] = 17.66"
      ],
      "metadata": {
        "id": "V1XJID0AlpU_"
      }
    },
    {
      "cell_type": "code",
      "source": [
        "x = [[1, 2, 3, 4, 5],\n",
        "     [21, 22, 23, 24, 25],\n",
        "     [31, 32, 33, 34, 35]]\n",
        "\n",
        "def exercise1():\n",
        "    # 1. indexing болон slicing ашиглах\n",
        "    print(x[1])\n",
        "    print(x[0][2])\n",
        "    print(x[2][1:3])\n",
        "    print(x[0][0:5:2])\n",
        "    print()\n",
        "    print(\"============================================\")\n",
        "    print()\n",
        "    # 2.\n",
        "    y = [0, 0, 0]\n",
        "    for i in range(len(y)):\n",
        "        y[i] = cal_mean(x[i]).__float__()\n",
        "    print(y)\n",
        "    print()\n",
        "    print(\"============================================\")\n",
        "    print()\n",
        "    # 3.\n",
        "    z = [0, 0, 0, 0, 0]\n",
        "    #  [17.66, 18.66, 19.66, 20.66, 21.66] // average of [1, 21, 31] = 17.66\n",
        "    for i in range(len(z)):\n",
        "       z[i] = round(cal_mean(column(x, i)).__float__(), 2)\n",
        "\n",
        "    print(z)\n",
        "\n",
        "exercise1()"
      ],
      "metadata": {
        "colab": {
          "base_uri": "https://localhost:8080/"
        },
        "id": "ytjXwTO-m4p-",
        "outputId": "db86917b-a19f-44fd-831a-5b0e143e51da"
      },
      "execution_count": null,
      "outputs": [
        {
          "output_type": "stream",
          "name": "stdout",
          "text": [
            "[21, 22, 23, 24, 25]\n",
            "3\n",
            "[32, 33]\n",
            "[1, 3, 5]\n",
            "\n",
            "============================================\n",
            "\n",
            "[3.0, 23.0, 33.0]\n",
            "\n",
            "============================================\n",
            "\n",
            "[17.67, 18.67, 19.67, 20.67, 21.67]\n"
          ]
        }
      ]
    },
    {
      "cell_type": "markdown",
      "source": [
        "2. x = [1, 3, 5, 6, 7, 8, 6, 1, 2, 3] \n",
        "   \n",
        "   y = [0, 0, 0, 0, 0, 0, 0, 0]\n",
        "     \n",
        "      * <font color=\"green\">while loop ашиглан y-н эхний индекс дээр ‘x’ эхний 3 элементийн дундажийг олох замаар бусад индекс дээрх утгуудыг олох python код бичнэ үү. print(y) гаралтын үр дүн дараах байдалтай байна.</font>\n",
        "      \n",
        "          * [3.0, 4.666666666666667, 6.0, 7.0, 7.0, 5.0, 3.0, 2.0]\n",
        "      Аргументаар жагсааж, дундаж утгыг буцаах функцыг тодорхойл. Дараа нь х\n",
        "      болон у дундажийг тооцоол. \n",
        "   \n"
      ],
      "metadata": {
        "id": "-8oNKsuXtn__"
      }
    },
    {
      "cell_type": "code",
      "source": [
        "x = [1, 3, 5, 6, 7, 8, 6, 1, 2, 3]\n",
        "y = [0, 0, 0, 0, 0, 0, 0, 0]\n",
        "\n",
        "def exercise2():\n",
        "    # 1.\n",
        "    print(\"ex2: \")\n",
        "    i = 0\n",
        "    while(i < len(y)):\n",
        "        y[i] = round(cal_mean(x[i:i+3]).__float__(), 2)\n",
        "\n",
        "        i = i + 1\n",
        "\n",
        "    print()\n",
        "    print(y)\n",
        "    print()\n",
        "    # 2.\n",
        "    print(cal_mean(x))\n",
        "    print(cal_mean(y))\n",
        "\n",
        "exercise2()"
      ],
      "metadata": {
        "id": "G_x1kTPjqyhf",
        "colab": {
          "base_uri": "https://localhost:8080/"
        },
        "outputId": "ab194d28-defe-4d62-c720-b3b1746cb597"
      },
      "execution_count": null,
      "outputs": [
        {
          "output_type": "stream",
          "name": "stdout",
          "text": [
            "ex2: \n",
            "\n",
            "[3.0, 4.67, 6.0, 7.0, 7.0, 5.0, 3.0, 2.0]\n",
            "\n",
            "4.2\n",
            "4.70875\n"
          ]
        }
      ]
    },
    {
      "cell_type": "markdown",
      "source": [
        "### Гэрийн даалгавар\n",
        "\n",
        "<font color=\"green\">Хэрэглэгчээс хоёр бүхэл тоо оролтод авч х ба у хувьсагчуудад хадгалах код бич. х\n",
        "элементийн жагсаалт (w) гаргаж ав, элемент бүр нь 1-ээс 10 хүртэлх у-ийн санамсаргүй\n",
        "бүхэл тоог агуулах ба эдгээрийг жагсаалтыг дэлгэцэнд харуулна уу.\n",
        "\n",
        "* Хэрэглэгчээс 1-ээс 10 хүртэлх тоо оруулж, нийт жагсаалтад (w) гараас оруулсан\n",
        "бүхэл тоо хэдэн удаа давтагдсаныг харуул.\n",
        "\n",
        "* Жагсаалтын (w) дундаж, медиан ба горимыг тооцоолох кодыг бичнэ үү. "
      ],
      "metadata": {
        "id": "Zp2X5rlDlpSD"
      }
    },
    {
      "cell_type": "code",
      "source": [
        "def homework():\n",
        "    w = []\n",
        "    count = 0\n",
        "    x = int(input(\"x too oruulna uu\")) # 10\n",
        "    y = int(input(\"y too oruulna uu\")) # 2\n",
        "    for i in range(x):\n",
        "        w.append(int(input()))\n",
        "\n",
        "    ynums = []\n",
        "\n",
        "    for i in w:\n",
        "        lst = map(int, str(i))\n",
        "        if y in lst:\n",
        "            count = count + 1\n",
        "\n",
        "    print(\"y orson too: \", count)\n",
        "    print(\"y toonuud: \", ynums)\n",
        "    print(\"w: \", w)\n",
        "    print(\"mean: \", cal_mean(w))\n",
        "    print(\"median: \", cal_median(w))\n",
        "    print(\"mode: \", cal_mode(w))\n",
        "\n",
        "homework()"
      ],
      "metadata": {
        "id": "iGXPJ5g5qs2A",
        "colab": {
          "base_uri": "https://localhost:8080/"
        },
        "outputId": "dfd9fe9f-7c6b-48e5-cc7b-27faa7271843"
      },
      "execution_count": null,
      "outputs": [
        {
          "output_type": "stream",
          "name": "stdout",
          "text": [
            "x too oruulna uu10\n",
            "y too oruulna uu2\n",
            "122\n",
            "222\n",
            "333\n",
            "444\n",
            "555\n",
            "666\n",
            "23\n",
            "321\n",
            "10\n",
            "9\n",
            "y orson too:  4\n",
            "y toonuud:  []\n",
            "w:  [122, 222, 333, 444, 555, 666, 23, 321, 10, 9]\n",
            "mean:  270.5\n",
            "median:  271.5\n",
            "mode:  mode oldsongv!\n"
          ]
        }
      ]
    },
    {
      "cell_type": "markdown",
      "source": [
        "## Бодож, тунгаах зүйлүүд:\n",
        "1. Boolean үйлдлийн үр дүнгийн өгөгдлийн төрөл нь юу вэ?\n",
        "\n",
        "    <font color=\"yellow\">true, false: boolean төрөл</font>\n",
        "\n",
        "2. Даалгавар 1-д x нь ямар хэмжигдэхүүний жагсаалт вэ? Энэ нь 3х5, 15 эсвэл зүгээр л 3\n",
        "уу?\n",
        "\n",
        "    <font color =\"yellow\">3 x 5 matrix</font>\n",
        "\n",
        "3. range function-с жагсаалт үүсгэх боломжтой юу\n",
        "\n",
        "    <font color =\"yellow\">Боломжтой</font>"
      ],
      "metadata": {
        "id": "ArpHizwulpOy"
      }
    }
  ]
}