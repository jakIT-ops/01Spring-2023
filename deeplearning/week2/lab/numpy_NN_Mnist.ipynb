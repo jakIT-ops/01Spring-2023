{
 "cells": [
  {
   "attachments": {},
   "cell_type": "markdown",
   "metadata": {},
   "source": [
    "# Нейрон сүлжээг бичих, оролт гаралтын утгыг тооцоолох, сургалт хийх\n",
    "\n",
    "ANN сургалтыг зөвхөн numpy cupy сан ашиглан туршилтын загвар үүсгэн сургалт хийх бөгөөд тайланг энэхүү notebook дээр хийн үр дүнг гарган илгээнэ. \n",
    "Энэхүү лабораторийн ажилыг гүйцэтгэснээр \n",
    "1. Машин сургалтын үндсэн зарчимуудыг хэрэглэх (apply) A.1\n",
    "2. Неирон сүлжээний зарчимуудыг хэрэглэх (apply) A.2\n",
    "3. Неирон сүлжээний загваруудыг шинжлэх (analyze) A.2\n",
    "7. Хэрэглэгчид болон төсөлд оролцогчидын бодит шаардлага дээр үндэслэж, хиймэл оюуны загвар боловсруулах, сургах, шаардлагуудыг зохиомжлох (design) B.1\n",
    "\n",
    "чадваруудыг эзэмших болно. \n",
    "<span style=\"color:red\">Даалгавруудыг зөвхөн өөрийн бодож боловсруулсан кодоор бичиж гүйцэтгэнэ. Хугацаа 3 долоо хоног.</span>\n",
    "## Шаардлагатай санг оруулах\n"
   ]
  },
  {
   "cell_type": "code",
   "execution_count": 1,
   "metadata": {},
   "outputs": [],
   "source": [
    "import numpy as np\n",
    "import matplotlib.pyplot as plt"
   ]
  },
  {
   "attachments": {},
   "cell_type": "markdown",
   "metadata": {},
   "source": [
    "## Сургалтын өгөгдлийг оруулах болон боловсруулах\n",
    "MNIST мэдээллийн сан нь гараар бичсэн цифрүүдийн мэдээллийн багц юм. Сургалтын 60 000 дээж, 10 000 сорьцтой. Зураг бүрийг 28x28 пикселээр дүрсэлсэн бөгөөд тус бүр нь саарал өнгийн утгаараа 0-255 утгыг агуулна. Энэ өгөгдлийг сүлжээндээ оруулахын өмнө үүнийг onehot кодчилох, normalize болгох шаардлагатай.\n",
    "\n",
    "Сургалтын өгөгдлийн сонгодог жишээ болох MNIST санг татаж авах ба түүний өгөгдлийн 0с 1ийн хооронд болгон хөрвүүлэх нь нейрон сүлжээг сургахад илүү дөхөм байдаг. Мөн өгөгдлийн гаралтыг сургалтын моделийн ангилалын тоотой ижил тооны 0 болон 1 ийн дараалал байдалаар onehot кодлох шаардлагатай. Ингэснээр тухайн моделыг шууд сургах боломж бүрдэх юм. Pytorch Tensorflow гэх мэт API ууд нь эдгээр хөрвүүлэлтүүдийг шийдсэн байдаг."
   ]
  },
  {
   "cell_type": "code",
   "execution_count": 10,
   "metadata": {},
   "outputs": [],
   "source": [
    "def MNIST_load(path):\n",
    "    def one_hot(y):\n",
    "        table = np.zeros((y.shape[0], 10))\n",
    "        for i in range(y.shape[0]):\n",
    "            table[i][int(y[i][0])] = 1 \n",
    "        return table\n",
    "\n",
    "    def normalize(x): \n",
    "        x = x / 255\n",
    "        return x \n",
    "\n",
    "    data = np.loadtxt('{}'.format(path), delimiter = ',', skiprows=1)\n",
    "\n",
    "    return normalize(data[:,1:]),one_hot(data[:,:1])\n",
    "\n",
    "X_train, y_train = MNIST_load('archive/mnist_train.csv')\n",
    "X_test, y_test = MNIST_load('archive/mnist_test.csv')"
   ]
  },
  {
   "attachments": {},
   "cell_type": "markdown",
   "metadata": {},
   "source": [
    "## Уншиж авсан өгөгдлийг шалгая"
   ]
  },
  {
   "cell_type": "code",
   "execution_count": 11,
   "metadata": {},
   "outputs": [
    {
     "name": "stdout",
     "output_type": "stream",
     "text": [
      "(60000, 784) (60000, 10)\n",
      "[0.         0.         0.         0.         0.         0.\n",
      " 0.         0.         0.         0.         0.         0.\n",
      " 0.         0.         0.         0.         0.         0.\n",
      " 0.         0.         0.         0.         0.         0.\n",
      " 0.         0.         0.         0.         0.         0.\n",
      " 0.         0.         0.         0.         0.         0.\n",
      " 0.         0.         0.         0.         0.         0.\n",
      " 0.         0.         0.         0.         0.         0.\n",
      " 0.         0.         0.         0.         0.         0.\n",
      " 0.         0.         0.         0.         0.         0.\n",
      " 0.         0.         0.         0.         0.         0.\n",
      " 0.         0.         0.         0.         0.         0.\n",
      " 0.         0.         0.         0.         0.         0.\n",
      " 0.         0.         0.         0.         0.         0.\n",
      " 0.         0.         0.         0.         0.         0.\n",
      " 0.         0.         0.         0.         0.         0.\n",
      " 0.         0.         0.         0.         0.         0.\n",
      " 0.         0.         0.         0.         0.         0.\n",
      " 0.         0.         0.         0.         0.         0.\n",
      " 0.         0.         0.         0.         0.         0.\n",
      " 0.         0.         0.         0.         0.         0.\n",
      " 0.         0.2        0.62352941 0.99215686 0.62352941 0.19607843\n",
      " 0.         0.         0.         0.         0.         0.\n",
      " 0.         0.         0.         0.         0.         0.\n",
      " 0.         0.         0.         0.         0.         0.\n",
      " 0.         0.         0.         0.         0.18823529 0.93333333\n",
      " 0.98823529 0.98823529 0.98823529 0.92941176 0.         0.\n",
      " 0.         0.         0.         0.         0.         0.\n",
      " 0.         0.         0.         0.         0.         0.\n",
      " 0.         0.         0.         0.         0.         0.\n",
      " 0.         0.21176471 0.89019608 0.99215686 0.98823529 0.9372549\n",
      " 0.91372549 0.98823529 0.22352941 0.02352941 0.         0.\n",
      " 0.         0.         0.         0.         0.         0.\n",
      " 0.         0.         0.         0.         0.         0.\n",
      " 0.         0.         0.         0.03921569 0.23529412 0.87843137\n",
      " 0.98823529 0.99215686 0.98823529 0.79215686 0.32941176 0.98823529\n",
      " 0.99215686 0.47843137 0.         0.         0.         0.\n",
      " 0.         0.         0.         0.         0.         0.\n",
      " 0.         0.         0.         0.         0.         0.\n",
      " 0.         0.63921569 0.98823529 0.98823529 0.98823529 0.99215686\n",
      " 0.98823529 0.98823529 0.37647059 0.74117647 0.99215686 0.65490196\n",
      " 0.         0.         0.         0.         0.         0.\n",
      " 0.         0.         0.         0.         0.         0.\n",
      " 0.         0.         0.         0.         0.2        0.93333333\n",
      " 0.99215686 0.99215686 0.74509804 0.44705882 0.99215686 0.89411765\n",
      " 0.18431373 0.30980392 1.         0.65882353 0.         0.\n",
      " 0.         0.         0.         0.         0.         0.\n",
      " 0.         0.         0.         0.         0.         0.\n",
      " 0.         0.18823529 0.93333333 0.98823529 0.98823529 0.70196078\n",
      " 0.04705882 0.29411765 0.4745098  0.08235294 0.         0.\n",
      " 0.99215686 0.95294118 0.19607843 0.         0.         0.\n",
      " 0.         0.         0.         0.         0.         0.\n",
      " 0.         0.         0.         0.         0.14901961 0.64705882\n",
      " 0.99215686 0.91372549 0.81568627 0.32941176 0.         0.\n",
      " 0.         0.         0.         0.         0.99215686 0.98823529\n",
      " 0.64705882 0.         0.         0.         0.         0.\n",
      " 0.         0.         0.         0.         0.         0.\n",
      " 0.         0.02745098 0.69803922 0.98823529 0.94117647 0.27843137\n",
      " 0.0745098  0.10980392 0.         0.         0.         0.\n",
      " 0.         0.         0.99215686 0.98823529 0.76470588 0.\n",
      " 0.         0.         0.         0.         0.         0.\n",
      " 0.         0.         0.         0.         0.         0.22352941\n",
      " 0.98823529 0.98823529 0.24705882 0.         0.         0.\n",
      " 0.         0.         0.         0.         0.         0.\n",
      " 0.99215686 0.98823529 0.76470588 0.         0.         0.\n",
      " 0.         0.         0.         0.         0.         0.\n",
      " 0.         0.         0.         0.77647059 0.99215686 0.74509804\n",
      " 0.         0.         0.         0.         0.         0.\n",
      " 0.         0.         0.         0.         1.         0.99215686\n",
      " 0.76862745 0.         0.         0.         0.         0.\n",
      " 0.         0.         0.         0.         0.         0.\n",
      " 0.29803922 0.96470588 0.98823529 0.43921569 0.         0.\n",
      " 0.         0.         0.         0.         0.         0.\n",
      " 0.         0.         0.99215686 0.98823529 0.58039216 0.\n",
      " 0.         0.         0.         0.         0.         0.\n",
      " 0.         0.         0.         0.         0.33333333 0.98823529\n",
      " 0.90196078 0.09803922 0.         0.         0.         0.\n",
      " 0.         0.         0.         0.         0.02745098 0.52941176\n",
      " 0.99215686 0.72941176 0.04705882 0.         0.         0.\n",
      " 0.         0.         0.         0.         0.         0.\n",
      " 0.         0.         0.33333333 0.98823529 0.8745098  0.\n",
      " 0.         0.         0.         0.         0.         0.\n",
      " 0.         0.02745098 0.51372549 0.98823529 0.88235294 0.27843137\n",
      " 0.         0.         0.         0.         0.         0.\n",
      " 0.         0.         0.         0.         0.         0.\n",
      " 0.33333333 0.98823529 0.56862745 0.         0.         0.\n",
      " 0.         0.         0.         0.         0.18823529 0.64705882\n",
      " 0.98823529 0.67843137 0.         0.         0.         0.\n",
      " 0.         0.         0.         0.         0.         0.\n",
      " 0.         0.         0.         0.         0.3372549  0.99215686\n",
      " 0.88235294 0.         0.         0.         0.         0.\n",
      " 0.         0.44705882 0.93333333 0.99215686 0.63529412 0.\n",
      " 0.         0.         0.         0.         0.         0.\n",
      " 0.         0.         0.         0.         0.         0.\n",
      " 0.         0.         0.33333333 0.98823529 0.97647059 0.57254902\n",
      " 0.18823529 0.11372549 0.33333333 0.69803922 0.88235294 0.99215686\n",
      " 0.8745098  0.65490196 0.21960784 0.         0.         0.\n",
      " 0.         0.         0.         0.         0.         0.\n",
      " 0.         0.         0.         0.         0.         0.\n",
      " 0.33333333 0.98823529 0.98823529 0.98823529 0.89803922 0.84313725\n",
      " 0.98823529 0.98823529 0.98823529 0.76862745 0.50980392 0.\n",
      " 0.         0.         0.         0.         0.         0.\n",
      " 0.         0.         0.         0.         0.         0.\n",
      " 0.         0.         0.         0.         0.10980392 0.78039216\n",
      " 0.98823529 0.98823529 0.99215686 0.98823529 0.98823529 0.91372549\n",
      " 0.56862745 0.         0.         0.         0.         0.\n",
      " 0.         0.         0.         0.         0.         0.\n",
      " 0.         0.         0.         0.         0.         0.\n",
      " 0.         0.         0.         0.09803922 0.50196078 0.98823529\n",
      " 0.99215686 0.98823529 0.55294118 0.14509804 0.         0.\n",
      " 0.         0.         0.         0.         0.         0.\n",
      " 0.         0.         0.         0.         0.         0.\n",
      " 0.         0.         0.         0.         0.         0.\n",
      " 0.         0.         0.         0.         0.         0.\n",
      " 0.         0.         0.         0.         0.         0.\n",
      " 0.         0.         0.         0.         0.         0.\n",
      " 0.         0.         0.         0.         0.         0.\n",
      " 0.         0.         0.         0.         0.         0.\n",
      " 0.         0.         0.         0.         0.         0.\n",
      " 0.         0.         0.         0.         0.         0.\n",
      " 0.         0.         0.         0.         0.         0.\n",
      " 0.         0.         0.         0.         0.         0.\n",
      " 0.         0.         0.         0.         0.         0.\n",
      " 0.         0.         0.         0.         0.         0.\n",
      " 0.         0.         0.         0.         0.         0.\n",
      " 0.         0.         0.         0.         0.         0.\n",
      " 0.         0.         0.         0.         0.         0.\n",
      " 0.         0.         0.         0.         0.         0.\n",
      " 0.         0.         0.         0.         0.         0.\n",
      " 0.         0.         0.         0.         0.         0.\n",
      " 0.         0.         0.         0.        ] [1. 0. 0. 0. 0. 0. 0. 0. 0. 0.]\n",
      "(10000, 784) (10000, 10)\n"
     ]
    }
   ],
   "source": [
    "print(X_train.shape, y_train.shape)\n",
    "print(X_train[1], y_train[1])\n",
    "print(X_test.shape, y_test.shape)"
   ]
  },
  {
   "attachments": {},
   "cell_type": "markdown",
   "metadata": {},
   "source": [
    "## Нейрон сүлжээний танилцуулга\n",
    "Мэдрэлийн сүлжээ нь давхаргын бүтцэд байрлуулсан, хүний тархи тооцоолол хийдэгтэй адил загварчлагдсан нейронуудын (тооцоолох нэгж) цуглуулга юм. Энэ тохиргоо нь зургийн ангилал зэрэг хэв маягийг таних даалгавруудыг гүйцэтгэх боломжийг олгодог.\n",
    "\n",
    "<p align=\"center\" width=\"100%\">\n",
    "    <img width=\"33%\" src=\"https://miro.medium.com/max/720/1*FAl8LoOdQVg6WmvkDuP8Dg.webp\">\n",
    "</p>\n",
    "\n",
    "\n",
    "Мэдрэлийн сүлжээ нь хүн мэдрэхүйн эрхтнүүдээс мэдээлэл авч, өгөгдсөн жишээн дээр хамгийн ойр шийдвэр гаргаж сурдагтай адил. Мэдрэлийн сүлжээний диаграммыг зүүнээс баруун тийш уншдаг. Өгөгдөл нь нэг мэдрэлийн эсээс дараагийн давхаргад шилжих дарааллаар эцсийн мэдрэлийн эс хүртэл боловсруулагдаж үр дүнг гаргадаг.\n",
    "\n",
    "Эцсийн таамаглалд загвар хэрхэн нөлөөлж байгааг харахын тулд [Tensorflow Playground](https://playground.tensorflow.org/#activation=relu&batchSize=10&dataset=spiral&regDataset=reg-plane&learningRate=0.03&regularizationRate=0&noise=0&networkShape=8,8,6,6,4,2&seed=0.69013&showTestData=false&discretize=false&percTrainData=50&x=true&y=true&xTimesY=false&xSquared=false&ySquared=false&cosX=false&sinX=false&cosY=false&sinY=false&collectStats=false&problem=classification&initZero=false&hideText=false).\n",
    "\n",
    "## Perceptron\n",
    "\n",
    "Перцептрон бол 1958 онд нэвтрүүлсэн биологийн нейроны математик загвар юм. Давхаргад байрлуулсан перцептронуудын хослолыг мэдрэлийн сүлжээ гэж нэрлэдэг. Нэгээс олон далд давхарга байгаа тохиолдолд “Гүн” гэж нэрлэнэ.\n",
    "\n",
    "<p align=\"center\" width=\"100%\">\n",
    "    <img width=\"33%\" src=\"https://miro.medium.com/max/720/1*M430Y2QpsXlFL88xGY61_w.webp\">\n",
    "</p>\n",
    "\n",
    "Оролт $X = [x_1, x_2, …, x_m]$ ууд жин $W = [w_1, w_2, …, w_m]$ үүдтэй матриц үржүүлэгдэн бүгдийг нэмсэн үр дүнд биас $b$ нэмж гаралтын утгыг идэвхжүүлэгч функц ашиглан гарган авна.\n",
    "\n",
    "<p align=\"center\" width=\"100%\">\n",
    "    <img width=\"33%\" src=\"https://miro.medium.com/max/4800/1*_Jr6WYMq09Pia_VppNOv7Q.webp\">\n",
    "</p>\n",
    "\n",
    "Идэвхжүүлэгч функцийн гол зорилго нь: \n",
    "Шугаман бус идэвхжүүлэлтийн функц нь нейронуудын хоорондох шугаман байдлыг эвдэж, илүү төвөгтэй хэв маягийг олох боломжийг олгодог. Үүнгүйгээр энэ нь зүгээр л шугаман ангилагч эсвэл регресс юм.\n",
    "<p align=\"center\" width=\"100%\">\n",
    "    <img width=\"33%\" src=\"https://miro.medium.com/v2/resize:fit:720/format:webp/1*ZafDv3VUm60Eh10OeJu1vw.png\">\n",
    "</p>\n",
    "\n",
    "\n",
    "\n",
    "Sigmoid эсвэл Tanh гэх мэт олон идэвхжүүлэх функцууд байдаг. Бид хамгийн алдартай нь болох ReLU-г сонгох болно, энэ нь энгийн учраас тооцоолоход илүү хурдан байдаг. Бид мөн сүүлийн давхаргад Softmax функцийг нэмдэг бөгөөд энэ нь гаралтыг магадлалын тархалт болгон хувиргадаг.\n",
    "\n",
    "1. Жин нь мэдрэлийн эсүүдийн хоорондын холболтын хүчийг тодорхойлдог.\n",
    "\n",
    "2. Bias нь идэвхжүүлэх функцийг өөрчилдөг тул нейроныг асаахад бага эсвэл өндөр утгатай байх шаардлагатай.\n",
    "\n",
    "## Сургалтын процесс\n",
    "\n",
    "Шууд болон гэдрэг гэсэн хоёр төрлийн процессийг сургалтанд ашигладаг.\n",
    "\n",
    "<p align=\"center\" width=\"100%\">\n",
    "    <img width=\"33%\" src=\"https://miro.medium.com/max/640/1*nTHoUrFO1WIcovnwC3wS_Q.gif\">\n",
    "</p>\n",
    "\n",
    "Feedforward - бид мэдрэлийн сүлжээг өгөгдөлөөр тэжээдэг бөгөөд энэ нь бүх давхаргуудаар дамждаг. Нэг давхарга дахь идэвхжүүлэлтийн загвар бүр нь дараагийн давхарга дахь идэвхжүүлэлтийн загварын оролт гэх мэтээр эцсийн дүндээ гаралтын давхаргад таамаглал гарган авахад хүргэдэг. Давхрага бүр дээрхи математик тооцоолол нь перцептронтой адил матрицын үржүүлэг юм.\n",
    "\n",
    "$$\n",
    "a_l = ReLU(z_l)\n",
    "$$\n",
    "$$\n",
    "z_l = (w_l \\cdot a_{l-1}) + b_l\n",
    "$$\n",
    "\n",
    "Backpropagation - Буцах тархалт нь урьдчилан таамагласан болон хүссэн үр дүнгийн ялгаан дээр үндэслэн жин ба хэвийх утгыг шинэчилдэг сургалтын үйл явц юм. Сүлжээний алдааг хэмжихийн тулд бид Зардлын функцийг ашигладаг.\n",
    "\n",
    "$$\n",
    "Cost = \\frac{1}{2m} \\Sigma_{i=1}^m({y}-\\hat{y})^2\n",
    "$$\n",
    "$y$ таамаглал, $\\hat{y}$ гаралт target, $m$ гаралтын хэмжээ\n",
    "\n",
    "Сургалтын үйл явцын эцсийн зорилго нь цаг хугацааны явцад алдааг аажмаар багасгах юм. Энэ нь функц учраас бид global хамгийн бага хэмжээг хайна. Хамгийн бага руу чиглэсэн алхмуудын чиглэлийг олохын тулд градиент уруу аргыг ашигладаг.\n",
    "\n",
    "<p align=\"center\" width=\"100%\">\n",
    "    <img width=\"33%\" src=\"https://miro.medium.com/max/640/1*hxnqRIxiyCgDToM5hXb09Q.gif\">\n",
    "</p>\n",
    "\n",
    "Олон хувьсагч функцийн градиент (өгсөх) нь функцийг хамгийн хурдан нэмэгдүүлэхийн тулд алхам хийх шаардлагатай чиглэлийг заадаг вектор юм. Бид градиентийн сөрөг утгыг авах замаар функцийг багасгах хамгийн хурдан арга замыг олж авдаг. \"Алхам\" -ын хэмжээг сурах хурдаар тодорхойлно. Хэт том утга нь доод хэмжээг давдаг бол хэт бага утга нь хэзээ ч хүрэхгүй.\n",
    "\n",
    "$$\n",
    "Gradient_{w_l} = \\frac{\\partial Cost}{\\partial w_l}\n",
    "$$\n",
    "\n",
    "$$\n",
    "Gradient_{b_l} = \\frac{\\partial Cost}{\\partial b_l}\n",
    "$$\n",
    "\n",
    "$$\n",
    "{w_l} = {w_l} - \\alpha*\\frac{\\partial Cost}{\\partial w_l}\n",
    "$$\n",
    "\n",
    "$$\n",
    "{b_l} = {b_l} - \\alpha*\\frac{\\partial Cost}{\\partial b_l}\n",
    "$$\n",
    "\n",
    "Харамсалтай нь Зардлын функц нь жингээс шууд хамаардаггүй. Ийм хамаарлыг олохын тулд бид нийлмэл функцийг задалдаг Гинжин дүрмийн аргыг ашиглах хэрэгтэй.\n",
    "\n",
    "$$\n",
    "Gradient_{w_l} = \\frac{\\partial Cost}{\\partial w_l} = \\frac{\\partial Cost}{\\partial a_l} * \\frac{\\partial a_l}{\\partial z_l} * \\frac{\\partial z_l}{\\partial w_l}\n",
    "$$\n",
    "\n",
    "$$\n",
    "\\frac{\\partial Cost}{\\partial a_l} = (\\frac{1}{2m} ({y}-\\hat{y})^2)^{'} = \\frac{1}{m}({y}-\\hat{y})\n",
    "$$\n",
    "\n",
    "$$\n",
    "\\frac{\\partial a_l}{\\partial z_l}  = (\\psi(z_l))^{'}=\\psi^{'}(z_l)\n",
    "$$\n",
    "\n",
    "$$\n",
    "\\frac{\\partial z_l}{\\partial w_l} = (w_l * a_{l-1} + b_l)^{'} = a_{l-1}\n",
    "$$\n",
    "\n",
    "$$\n",
    "Gradient_{w_l} = \\frac{1}{m}({y}-\\hat{y}) * \\psi^{'}(z_l) * a_{l-1}\n",
    "$$\n",
    "\n",
    "$$\n",
    "Gradient_{b_l} = \\frac{1}{m}\\sum({y}-\\hat{y}) * \\psi^{'}(z_{li})\n",
    "$$\n",
    "\n",
    "## Стохастик градиент уналт\n",
    "\n",
    "Өгөгдлийн багц дахь жишээ бүрийн градиентийг тооцоолох нь маш үр ашиггүй юм (Online learning). Тиймээс бид өгөгдлийг бага багц болгон хувааж, түүн дээр градиент тооцоолно. Энэ нь нэг градиент шиг нарийвчлалтай биш юм. Гэсэн хэдий ч энэ нь тооцоололд ихээхэн түлхэц өгч, том өгөгдлийн багцад илүү сайн ажилладаг. Мөн бид үүний \"стохастик\" хэсгийг нэмж, бүх сургалтын багцийг сургалтын загвараар оруулан гаргах бүрт өгөгдлийн багцыг хольдог."
   ]
  },
  {
   "attachments": {},
   "cell_type": "markdown",
   "metadata": {},
   "source": [
    "## Нейрон сүлжээний загварчлал\n",
    "\n",
    "1. Оролт 784\n",
    "2. hidden1 256\n",
    "3. hidden2 128\n",
    "4. Гаралт 10\n",
    "\n",
    "Жингүүд болон bias - ийн утгуудыг санамсаргүйгээр эхлүүлэх"
   ]
  },
  {
   "cell_type": "code",
   "execution_count": 12,
   "metadata": {},
   "outputs": [],
   "source": [
    "class NeuralNetwork_weights:\n",
    "    def __init__(self, X, y, batch = 64, lr = 1e-3,  epochs = 50):\n",
    "        self.input = X \n",
    "        self.target = y\n",
    "        self.batch = batch\n",
    "        self.epochs = epochs\n",
    "        self.lr = lr\n",
    "        \n",
    "        self.x = self.input[:self.batch] # эхний багц оролт\n",
    "        self.y = self.target[:self.batch] # эхний багц target\n",
    "        self.loss = []\n",
    "        self.acc = []\n",
    "        \n",
    "        self.init_weights()\n",
    "      \n",
    "    def init_weights(self):\n",
    "        # энд жин болон bias-ийг np.random.randn ашиглан үүсгэнэ.\n",
    "        self.weights1 = None\n",
    "        self.weights2 = None\n",
    "        self.weights3 = None\n",
    "\n",
    "        self.bias1 = None\n",
    "        self.bias2 = None\n",
    "        self.bias3 = None"
   ]
  },
  {
   "cell_type": "code",
   "execution_count": 14,
   "metadata": {},
   "outputs": [
    {
     "name": "stdout",
     "output_type": "stream",
     "text": [
      "None\n"
     ]
    }
   ],
   "source": [
    "NN = NeuralNetwork_weights(X_train[:100, :], y_train[:100, :])\n",
    "print(NN.weights1)\n",
    "# print(NN.weights2.shape)\n",
    "# print(NN.weights3.shape)\n",
    "# print(NN.bias1.shape)\n",
    "# print(NN.bias2.shape)\n",
    "# print(NN.bias3.shape)"
   ]
  },
  {
   "attachments": {},
   "cell_type": "markdown",
   "metadata": {},
   "source": [
    "### Хүлээгдэж буй гаралт:\n",
    "(784, 256)\n",
    "\n",
    "(256, 128)\n",
    "\n",
    "(128, 10)\n",
    "\n",
    "(256,)\n",
    "\n",
    "(128,)\n",
    "\n",
    "(10,)"
   ]
  },
  {
   "cell_type": "code",
   "execution_count": 15,
   "metadata": {},
   "outputs": [],
   "source": [
    "class NeuralNetwork_activation(NeuralNetwork_weights):\n",
    "    def __init__(self, X, y, batch=64, lr=0.001, epochs=50):\n",
    "        super().__init__(X, y, batch, lr, epochs)\n",
    "        \n",
    "    def ReLU(self, x): #relu forward\n",
    "        return np.maximum(0,x)\n",
    "\n",
    "    def dReLU(self,x): # delta relu гэдрэг урсгалд\n",
    "        return 1 * (x > 0) \n",
    "    \n",
    "    def softmax(self, z):\n",
    "        z = z - np.max(z, axis = 1).reshape(z.shape[0],1)\n",
    "        return np.exp(z) / np.sum(np.exp(z), axis = 1).reshape(z.shape[0],1)"
   ]
  },
  {
   "attachments": {},
   "cell_type": "markdown",
   "metadata": {},
   "source": [
    "## forwar болон back функцуудыг бичих"
   ]
  },
  {
   "cell_type": "code",
   "execution_count": 16,
   "metadata": {},
   "outputs": [],
   "source": [
    "class NeuralNetwork_forward_back(NeuralNetwork_activation):\n",
    "    def __init__(self, X, y, batch=64, lr=0.001, epochs=50):\n",
    "        super().__init__(X, y, batch, lr, epochs)\n",
    "        \n",
    "    def shuffle_dataset(self):\n",
    "        idx = [i for i in range(self.input.shape[0])]\n",
    "        np.random.shuffle(idx)\n",
    "        self.input = self.input[idx]\n",
    "        self.target = self.target[idx]\n",
    "        \n",
    "    def forward(self):\n",
    "        assert self.x.shape[1] == self.weights1.shape[0]\n",
    "        self.z1 = None\n",
    "        self.a1 = None # ReLU\n",
    "\n",
    "        assert self.a1.shape[1] == self.weights2.shape[0]\n",
    "        self.z2 = None\n",
    "        self.a2 = None # ReLU\n",
    "\n",
    "        assert self.a2.shape[1] == self.weights3.shape[0]\n",
    "        self.z3 = None\n",
    "        self.a3 = None # Softmax\n",
    "        self.error = self.a3 - self.y\n",
    "\n",
    "        \n",
    "    def back(self):\n",
    "        dcost = None\n",
    "        \n",
    "        Dweights3 = None # градиентуудыг chain rule ашиглан тооцоолно уу\n",
    "        Dweights2 = None\n",
    "        Dweights1 = None\n",
    "\n",
    "        dbias3 = None\n",
    "        dbias2 = None\n",
    "        dbias1 = None\n",
    "        \n",
    "        assert Dweights3.shape == self.weights3.shape\n",
    "        assert Dweights2.shape == self.weights2.shape\n",
    "        assert Dweights1.shape == self.weights1.shape\n",
    "        \n",
    "        assert dbias3.shape == self.bias3.shape\n",
    "        assert dbias2.shape == self.bias2.shape\n",
    "        assert dbias1.shape == self.bias1.shape  # assert алдаа заагаагүй болон chain rule тооцоолол зөв тохиолдолд сургалтын функцээр шалгана \n",
    "        \n",
    "        self.weights3 = self.weights3 - self.lr * Dweights3\n",
    "        self.weights2 = self.weights2 - self.lr * Dweights2\n",
    "        self.weights1 = self.weights1 - self.lr * Dweights1\n",
    "        \n",
    "        self.bias3 = self.bias3 - self.lr * dbias3\n",
    "        self.bias2 = self.bias2 - self.lr * dbias2\n",
    "        self.bias1 = self.bias1 - self.lr * dbias1\n"
   ]
  },
  {
   "cell_type": "code",
   "execution_count": 17,
   "metadata": {},
   "outputs": [],
   "source": [
    "class NeuralNetwork_train_test(NeuralNetwork_forward_back):\n",
    "    def __init__(self, X, y, batch=64, lr=0.001, epochs=50):\n",
    "        super().__init__(X, y, batch, lr, epochs)    \n",
    "\n",
    "    def train(self):\n",
    "        for epoch in range(self.epochs):\n",
    "            l = 0\n",
    "            acc = 0\n",
    "            self.shuffle()\n",
    "            \n",
    "            for batch in range(self.input.shape[0]//self.batch-1):\n",
    "                start = batch*self.batch\n",
    "                end = (batch+1)*self.batch\n",
    "                self.x = self.input[start:end]\n",
    "                self.y = self.target[start:end]\n",
    "                self.forward()\n",
    "                self.back()\n",
    "                l+=np.mean(self.error**2)\n",
    "                acc+= np.count_nonzero(np.argmax(self.a3,axis=1) == np.argmax(self.y,axis=1)) / self.batch\n",
    "                \n",
    "            self.loss.append(l/(self.input.shape[0]//self.batch))\n",
    "            self.acc.append(acc*100/(self.input.shape[0]//self.batch))\n",
    "            \n",
    "    def test(self,xtest,ytest):\n",
    "        self.x = xtest\n",
    "        self.y = ytest\n",
    "        self.forward()\n",
    "        acc = np.count_nonzero(np.argmax(self.a3,axis=1) == np.argmax(self.y,axis=1)) / self.x.shape[0]\n",
    "        print(\"Accuracy:\", 100 * acc, \"%\")\n",
    "            \n",
    "    def plot(self):\n",
    "        plt.figure(dpi = 125)\n",
    "        plt.plot(self.loss)\n",
    "        plt.xlabel(\"Epochs\")\n",
    "        plt.ylabel(\"Loss\")\n",
    "    \n",
    "    def acc_plot(self):\n",
    "        plt.figure(dpi = 125)\n",
    "        plt.plot(self.acc)\n",
    "        plt.xlabel(\"Epochs\")\n",
    "        plt.ylabel(\"Accuracy\")\n",
    "        \n"
   ]
  },
  {
   "attachments": {},
   "cell_type": "markdown",
   "metadata": {},
   "source": [
    "## Compile эмхтгэл шалгалт"
   ]
  },
  {
   "cell_type": "code",
   "execution_count": 19,
   "metadata": {},
   "outputs": [],
   "source": [
    "NN = NeuralNetwork_train_test(X_train[:1000, :], y_train[:1000, :]) \n",
    "# NN.train()\n",
    "# NN.plot()\n",
    "# NN.test(X_test[:1000],y_test[:1000])\n"
   ]
  },
  {
   "cell_type": "code",
   "execution_count": 20,
   "metadata": {},
   "outputs": [
    {
     "data": {
      "text/plain": "<Figure size 800x600 with 1 Axes>",
      "image/png": "[encoded data removed]"
     },
     "metadata": {},
     "output_type": "display_data"
    }
   ],
   "source": [
    "NN.acc_plot()"
   ]
  },
  {
   "attachments": {},
   "cell_type": "markdown",
   "metadata": {},
   "source": [
    "## Бүгдийг нэгтгэн class бичвэл"
   ]
  },
  {
   "cell_type": "code",
   "execution_count": 21,
   "metadata": {},
   "outputs": [],
   "source": [
    "class NeuralNetwork:\n",
    "    def __init__(self, X, y, batch = 64, lr = 1e-3,  epochs = 50):\n",
    "        self.input = X \n",
    "        self.target = y\n",
    "        self.batch = batch\n",
    "        self.epochs = epochs\n",
    "        self.lr = lr\n",
    "        \n",
    "        self.x = self.input[:self.batch] # batch input \n",
    "        self.y = self.target[:self.batch] # batch target value\n",
    "        self.loss = []\n",
    "        self.acc = []\n",
    "        \n",
    "        self.init_weights()\n",
    "      \n",
    "    def init_weights(self):\n",
    "        pass\n",
    "\n",
    "    def ReLU(self, x):\n",
    "        return np.maximum(0,x)\n",
    "\n",
    "    def dReLU(self,x):\n",
    "        return 1 * (x > 0) \n",
    "    \n",
    "    def softmax(self, z):\n",
    "        z = z - np.max(z, axis = 1).reshape(z.shape[0],1)\n",
    "        return np.exp(z) / np.sum(np.exp(z), axis = 1).reshape(z.shape[0],1)\n",
    "    \n",
    "    def shuffle(self):\n",
    "        idx = [i for i in range(self.input.shape[0])]\n",
    "        np.random.shuffle(idx)\n",
    "        self.input = self.input[idx]\n",
    "        self.target = self.target[idx]\n",
    "        \n",
    "    def forward(self):\n",
    "        pass\n",
    "\n",
    "        \n",
    "    def back(self):\n",
    "        pass\n",
    "\n",
    "    def train(self):\n",
    "        for epoch in range(self.epochs):\n",
    "            l = 0\n",
    "            acc = 0\n",
    "            self.shuffle()\n",
    "            \n",
    "            for batch in range(self.input.shape[0]//self.batch-1):\n",
    "                start = batch*self.batch\n",
    "                end = (batch+1)*self.batch\n",
    "                self.x = self.input[start:end]\n",
    "                self.y = self.target[start:end]\n",
    "                self.forward()\n",
    "                self.back()\n",
    "                l+=np.mean(self.error**2)\n",
    "                acc+= np.count_nonzero(np.argmax(self.a3,axis=1) == np.argmax(self.y,axis=1)) / self.batch\n",
    "                \n",
    "            self.loss.append(l/(self.input.shape[0]//self.batch))\n",
    "            self.acc.append(acc*100/(self.input.shape[0]//self.batch))\n",
    "            \n",
    "    def plot(self):\n",
    "        plt.figure(dpi = 125)\n",
    "        plt.plot(self.loss)\n",
    "        plt.xlabel(\"Epochs\")\n",
    "        plt.ylabel(\"Loss\")\n",
    "    \n",
    "    def acc_plot(self):\n",
    "        plt.figure(dpi = 125)\n",
    "        plt.plot(self.acc)\n",
    "        plt.xlabel(\"Epochs\")\n",
    "        plt.ylabel(\"Accuracy\")\n",
    "        \n",
    "    def test(self,xtest,ytest):\n",
    "        self.x = xtest\n",
    "        self.y = ytest\n",
    "        self.forward()\n",
    "        acc = np.count_nonzero(np.argmax(self.a3,axis=1) == np.argmax(self.y,axis=1)) / self.x.shape[0]\n",
    "        print(\"Accuracy:\", 100 * acc, \"%\")\n",
    "        return np.argmax(self.a3,axis=1)"
   ]
  },
  {
   "cell_type": "code",
   "execution_count": 22,
   "metadata": {},
   "outputs": [
    {
     "ename": "AttributeError",
     "evalue": "'NeuralNetwork' object has no attribute 'error'",
     "output_type": "error",
     "traceback": [
      "\u001B[0;31m---------------------------------------------------------------------------\u001B[0m",
      "\u001B[0;31mAttributeError\u001B[0m                            Traceback (most recent call last)",
      "Cell \u001B[0;32mIn[22], line 2\u001B[0m\n\u001B[1;32m      1\u001B[0m NN \u001B[38;5;241m=\u001B[39m NeuralNetwork(X_train[:\u001B[38;5;241m1000\u001B[39m, :], y_train[:\u001B[38;5;241m1000\u001B[39m, :]) \n\u001B[0;32m----> 2\u001B[0m \u001B[43mNN\u001B[49m\u001B[38;5;241;43m.\u001B[39;49m\u001B[43mtrain\u001B[49m\u001B[43m(\u001B[49m\u001B[43m)\u001B[49m\n\u001B[1;32m      3\u001B[0m NN\u001B[38;5;241m.\u001B[39mplot()\n\u001B[1;32m      4\u001B[0m NN\u001B[38;5;241m.\u001B[39mtest(X_test[:\u001B[38;5;241m1000\u001B[39m],y_test[:\u001B[38;5;241m1000\u001B[39m])\n",
      "Cell \u001B[0;32mIn[21], line 55\u001B[0m, in \u001B[0;36mNeuralNetwork.train\u001B[0;34m(self)\u001B[0m\n\u001B[1;32m     53\u001B[0m     \u001B[38;5;28mself\u001B[39m\u001B[38;5;241m.\u001B[39mforward()\n\u001B[1;32m     54\u001B[0m     \u001B[38;5;28mself\u001B[39m\u001B[38;5;241m.\u001B[39mback()\n\u001B[0;32m---> 55\u001B[0m     l\u001B[38;5;241m+\u001B[39m\u001B[38;5;241m=\u001B[39mnp\u001B[38;5;241m.\u001B[39mmean(\u001B[38;5;28;43mself\u001B[39;49m\u001B[38;5;241;43m.\u001B[39;49m\u001B[43merror\u001B[49m\u001B[38;5;241m*\u001B[39m\u001B[38;5;241m*\u001B[39m\u001B[38;5;241m2\u001B[39m)\n\u001B[1;32m     56\u001B[0m     acc\u001B[38;5;241m+\u001B[39m\u001B[38;5;241m=\u001B[39m np\u001B[38;5;241m.\u001B[39mcount_nonzero(np\u001B[38;5;241m.\u001B[39margmax(\u001B[38;5;28mself\u001B[39m\u001B[38;5;241m.\u001B[39ma3,axis\u001B[38;5;241m=\u001B[39m\u001B[38;5;241m1\u001B[39m) \u001B[38;5;241m==\u001B[39m np\u001B[38;5;241m.\u001B[39margmax(\u001B[38;5;28mself\u001B[39m\u001B[38;5;241m.\u001B[39my,axis\u001B[38;5;241m=\u001B[39m\u001B[38;5;241m1\u001B[39m)) \u001B[38;5;241m/\u001B[39m \u001B[38;5;28mself\u001B[39m\u001B[38;5;241m.\u001B[39mbatch\n\u001B[1;32m     58\u001B[0m \u001B[38;5;28mself\u001B[39m\u001B[38;5;241m.\u001B[39mloss\u001B[38;5;241m.\u001B[39mappend(l\u001B[38;5;241m/\u001B[39m(\u001B[38;5;28mself\u001B[39m\u001B[38;5;241m.\u001B[39minput\u001B[38;5;241m.\u001B[39mshape[\u001B[38;5;241m0\u001B[39m]\u001B[38;5;241m/\u001B[39m\u001B[38;5;241m/\u001B[39m\u001B[38;5;28mself\u001B[39m\u001B[38;5;241m.\u001B[39mbatch))\n",
      "\u001B[0;31mAttributeError\u001B[0m: 'NeuralNetwork' object has no attribute 'error'"
     ]
    }
   ],
   "source": [
    "NN = NeuralNetwork(X_train[:1000, :], y_train[:1000, :]) \n",
    "NN.train()\n",
    "NN.plot()\n",
    "NN.test(X_test[:1000],y_test[:1000])"
   ]
  },
  {
   "cell_type": "code",
   "execution_count": 23,
   "metadata": {},
   "outputs": [
    {
     "data": {
      "text/plain": "<Figure size 800x600 with 1 Axes>",
      "image/png": "[encoded data removed]"
     },
     "metadata": {},
     "output_type": "display_data"
    }
   ],
   "source": [
    "NN.acc_plot()"
   ]
  },
  {
   "attachments": {},
   "cell_type": "markdown",
   "metadata": {},
   "source": [
    "## Эцсийн сургалт\n",
    "\n",
    "Сургалт нь ойролцоогоор 10 минут үргэлжлэх бөгөөд тестийн санд 91% танилт хийгдэнэ.\n",
    "\n",
    "## Даалгавар 1\n",
    "1. Дээх загварыг сурган алдааны болон амжилттай танилтын график байгуулна уу"
   ]
  },
  {
   "cell_type": "code",
   "execution_count": 24,
   "metadata": {},
   "outputs": [
    {
     "ename": "AttributeError",
     "evalue": "'NeuralNetwork' object has no attribute 'error'",
     "output_type": "error",
     "traceback": [
      "\u001B[0;31m---------------------------------------------------------------------------\u001B[0m",
      "\u001B[0;31mAttributeError\u001B[0m                            Traceback (most recent call last)",
      "Cell \u001B[0;32mIn[24], line 2\u001B[0m\n\u001B[1;32m      1\u001B[0m NN \u001B[38;5;241m=\u001B[39m NeuralNetwork(X_train, y_train) \n\u001B[0;32m----> 2\u001B[0m \u001B[43mNN\u001B[49m\u001B[38;5;241;43m.\u001B[39;49m\u001B[43mtrain\u001B[49m\u001B[43m(\u001B[49m\u001B[43m)\u001B[49m\n\u001B[1;32m      3\u001B[0m NN\u001B[38;5;241m.\u001B[39mplot()\n\u001B[1;32m      4\u001B[0m NN\u001B[38;5;241m.\u001B[39mtest(X_test,y_test)\n",
      "Cell \u001B[0;32mIn[21], line 55\u001B[0m, in \u001B[0;36mNeuralNetwork.train\u001B[0;34m(self)\u001B[0m\n\u001B[1;32m     53\u001B[0m     \u001B[38;5;28mself\u001B[39m\u001B[38;5;241m.\u001B[39mforward()\n\u001B[1;32m     54\u001B[0m     \u001B[38;5;28mself\u001B[39m\u001B[38;5;241m.\u001B[39mback()\n\u001B[0;32m---> 55\u001B[0m     l\u001B[38;5;241m+\u001B[39m\u001B[38;5;241m=\u001B[39mnp\u001B[38;5;241m.\u001B[39mmean(\u001B[38;5;28;43mself\u001B[39;49m\u001B[38;5;241;43m.\u001B[39;49m\u001B[43merror\u001B[49m\u001B[38;5;241m*\u001B[39m\u001B[38;5;241m*\u001B[39m\u001B[38;5;241m2\u001B[39m)\n\u001B[1;32m     56\u001B[0m     acc\u001B[38;5;241m+\u001B[39m\u001B[38;5;241m=\u001B[39m np\u001B[38;5;241m.\u001B[39mcount_nonzero(np\u001B[38;5;241m.\u001B[39margmax(\u001B[38;5;28mself\u001B[39m\u001B[38;5;241m.\u001B[39ma3,axis\u001B[38;5;241m=\u001B[39m\u001B[38;5;241m1\u001B[39m) \u001B[38;5;241m==\u001B[39m np\u001B[38;5;241m.\u001B[39margmax(\u001B[38;5;28mself\u001B[39m\u001B[38;5;241m.\u001B[39my,axis\u001B[38;5;241m=\u001B[39m\u001B[38;5;241m1\u001B[39m)) \u001B[38;5;241m/\u001B[39m \u001B[38;5;28mself\u001B[39m\u001B[38;5;241m.\u001B[39mbatch\n\u001B[1;32m     58\u001B[0m \u001B[38;5;28mself\u001B[39m\u001B[38;5;241m.\u001B[39mloss\u001B[38;5;241m.\u001B[39mappend(l\u001B[38;5;241m/\u001B[39m(\u001B[38;5;28mself\u001B[39m\u001B[38;5;241m.\u001B[39minput\u001B[38;5;241m.\u001B[39mshape[\u001B[38;5;241m0\u001B[39m]\u001B[38;5;241m/\u001B[39m\u001B[38;5;241m/\u001B[39m\u001B[38;5;28mself\u001B[39m\u001B[38;5;241m.\u001B[39mbatch))\n",
      "\u001B[0;31mAttributeError\u001B[0m: 'NeuralNetwork' object has no attribute 'error'"
     ]
    }
   ],
   "source": [
    "NN = NeuralNetwork(X_train, y_train) \n",
    "NN.train()\n",
    "NN.plot()\n",
    "NN.test(X_test,y_test)\n",
    "NN.acc_plot()"
   ]
  },
  {
   "attachments": {},
   "cell_type": "markdown",
   "metadata": {},
   "source": [
    "## Даалгавар 2\n",
    "2. Сурсан загварын үнэлгээний шинжилгээг Sklearn metric ашиглан боломжит үнэлгээнүүдийг гаргана уу"
   ]
  },
  {
   "cell_type": "code",
   "execution_count": 25,
   "metadata": {},
   "outputs": [
    {
     "ename": "AttributeError",
     "evalue": "'NeuralNetwork' object has no attribute 'a3'",
     "output_type": "error",
     "traceback": [
      "\u001B[0;31m---------------------------------------------------------------------------\u001B[0m",
      "\u001B[0;31mAttributeError\u001B[0m                            Traceback (most recent call last)",
      "Cell \u001B[0;32mIn[25], line 2\u001B[0m\n\u001B[1;32m      1\u001B[0m \u001B[38;5;28;01mfrom\u001B[39;00m \u001B[38;5;21;01msklearn\u001B[39;00m\u001B[38;5;21;01m.\u001B[39;00m\u001B[38;5;21;01mmetrics\u001B[39;00m \u001B[38;5;28;01mimport\u001B[39;00m confusion_matrix, ConfusionMatrixDisplay, f1_score, recall_score, classification_report\n\u001B[0;32m----> 2\u001B[0m predictions \u001B[38;5;241m=\u001B[39m \u001B[43mNN\u001B[49m\u001B[38;5;241;43m.\u001B[39;49m\u001B[43mtest\u001B[49m\u001B[43m(\u001B[49m\u001B[43mX_test\u001B[49m\u001B[43m,\u001B[49m\u001B[43m \u001B[49m\u001B[43my_test\u001B[49m\u001B[43m)\u001B[49m\n\u001B[1;32m      3\u001B[0m cm \u001B[38;5;241m=\u001B[39m confusion_matrix(y_test, predictions, labels\u001B[38;5;241m=\u001B[39m\u001B[38;5;241m10\u001B[39m)\n\u001B[1;32m      4\u001B[0m disp \u001B[38;5;241m=\u001B[39m ConfusionMatrixDisplay(confusion_matrix\u001B[38;5;241m=\u001B[39mcm, display_labels\u001B[38;5;241m=\u001B[39m\u001B[38;5;241m10\u001B[39m)\n",
      "Cell \u001B[0;32mIn[21], line 77\u001B[0m, in \u001B[0;36mNeuralNetwork.test\u001B[0;34m(self, xtest, ytest)\u001B[0m\n\u001B[1;32m     75\u001B[0m \u001B[38;5;28mself\u001B[39m\u001B[38;5;241m.\u001B[39my \u001B[38;5;241m=\u001B[39m ytest\n\u001B[1;32m     76\u001B[0m \u001B[38;5;28mself\u001B[39m\u001B[38;5;241m.\u001B[39mforward()\n\u001B[0;32m---> 77\u001B[0m acc \u001B[38;5;241m=\u001B[39m np\u001B[38;5;241m.\u001B[39mcount_nonzero(np\u001B[38;5;241m.\u001B[39margmax(\u001B[38;5;28;43mself\u001B[39;49m\u001B[38;5;241;43m.\u001B[39;49m\u001B[43ma3\u001B[49m,axis\u001B[38;5;241m=\u001B[39m\u001B[38;5;241m1\u001B[39m) \u001B[38;5;241m==\u001B[39m np\u001B[38;5;241m.\u001B[39margmax(\u001B[38;5;28mself\u001B[39m\u001B[38;5;241m.\u001B[39my,axis\u001B[38;5;241m=\u001B[39m\u001B[38;5;241m1\u001B[39m)) \u001B[38;5;241m/\u001B[39m \u001B[38;5;28mself\u001B[39m\u001B[38;5;241m.\u001B[39mx\u001B[38;5;241m.\u001B[39mshape[\u001B[38;5;241m0\u001B[39m]\n\u001B[1;32m     78\u001B[0m \u001B[38;5;28mprint\u001B[39m(\u001B[38;5;124m\"\u001B[39m\u001B[38;5;124mAccuracy:\u001B[39m\u001B[38;5;124m\"\u001B[39m, \u001B[38;5;241m100\u001B[39m \u001B[38;5;241m*\u001B[39m acc, \u001B[38;5;124m\"\u001B[39m\u001B[38;5;124m%\u001B[39m\u001B[38;5;124m\"\u001B[39m)\n\u001B[1;32m     79\u001B[0m \u001B[38;5;28;01mreturn\u001B[39;00m np\u001B[38;5;241m.\u001B[39margmax(\u001B[38;5;28mself\u001B[39m\u001B[38;5;241m.\u001B[39ma3,axis\u001B[38;5;241m=\u001B[39m\u001B[38;5;241m1\u001B[39m)\n",
      "\u001B[0;31mAttributeError\u001B[0m: 'NeuralNetwork' object has no attribute 'a3'"
     ]
    }
   ],
   "source": [
    "from sklearn.metrics import confusion_matrix, ConfusionMatrixDisplay, f1_score, recall_score, classification_report\n",
    "predictions = NN.test(X_test, y_test)\n",
    "cm = confusion_matrix(y_test, predictions, labels=10)\n",
    "disp = ConfusionMatrixDisplay(confusion_matrix=cm, display_labels=10)\n",
    "disp.plot()\n",
    "plt.show()\n",
    "# бусад score\n"
   ]
  },
  {
   "attachments": {},
   "cell_type": "markdown",
   "metadata": {},
   "source": [
    "## Даалгавар 3\n",
    "3. Дээрх загварыг 3 далд давхрагатай болгон өөрчилж сургалтыг хийж нийт ашиглагдаж байгаа параметрийн тоог гаргана уу."
   ]
  },
  {
   "cell_type": "code",
   "execution_count": null,
   "metadata": {},
   "outputs": [],
   "source": [
    "class NeuralNetwork_3hidden(NeuralNetwork):\n",
    "    def __init__(self, X, y, batch=64, lr=0.001, epochs=50):\n",
    "        super().__init__(X, y, batch, lr, epochs)\n",
    "    def init_weights(self):\n",
    "        pass\n",
    "\n",
    "        \n",
    "    def forward(self):\n",
    "        pass\n",
    "\n",
    "        \n",
    "    def back(self):\n",
    "        pass"
   ]
  },
  {
   "cell_type": "code",
   "execution_count": null,
   "metadata": {},
   "outputs": [],
   "source": [
    "NN = NeuralNetwork_3hidden(X_train, y_train) \n",
    "NN.train()\n",
    "NN.plot()\n",
    "NN.test(X_test,y_test)\n",
    "NN.acc_plot()"
   ]
  },
  {
   "attachments": {},
   "cell_type": "markdown",
   "metadata": {},
   "source": [
    "## Даалгавар 4\n",
    "4. Дээрх кодыг ашиглан [CUPY](https://cupy.dev/) санд хөрвүүлэн бичиж, colab gpu дээр сургалт хийгдсэн хугацааг гаргана уу"
   ]
  },
  {
   "cell_type": "code",
   "execution_count": null,
   "metadata": {},
   "outputs": [],
   "source": []
  },
  {
   "attachments": {},
   "cell_type": "markdown",
   "metadata": {},
   "source": [
    "## Даалгавар 5\n",
    "5. (Нэмэлт) Нейрон сүлжээний идэвхигүй параметрүүдийг алгасах буюу Dropout функцийг далд давхрагуудад хэрэгжүүлнэ үү."
   ]
  },
  {
   "cell_type": "code",
   "execution_count": null,
   "metadata": {},
   "outputs": [],
   "source": []
  },
  {
   "attachments": {},
   "cell_type": "markdown",
   "metadata": {},
   "source": [
    "# Тайлан\n",
    "Дүгнэлт\n",
    "\n",
    "Оюутны овог:\n",
    "\n",
    "Нэр:\n",
    "\n",
    "Код:\n",
    "\n",
    "\n",
    "(Энд сурч мэдсэн зүйлсээ 300 үгэнд багтаан бичнэ үү)"
   ]
  }
 ],
 "metadata": {
  "kernelspec": {
   "display_name": "Python 3",
   "language": "python",
   "name": "python3"
  },
  "language_info": {
   "codemirror_mode": {
    "name": "ipython",
    "version": 3
   },
   "file_extension": ".py",
   "mimetype": "text/x-python",
   "name": "python",
   "nbconvert_exporter": "python",
   "pygments_lexer": "ipython3",
   "version": "3.10.6"
  },
  "orig_nbformat": 4,
  "vscode": {
   "interpreter": {
    "hash": "916dbcbb3f70747c44a77c7bcd40155683ae19c65e1c03b4aa3499c5328201f1"
   }
  }
 },
 "nbformat": 4,
 "nbformat_minor": 2
}
